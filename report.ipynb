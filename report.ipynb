{
 "cells": [
  {
   "cell_type": "markdown",
   "metadata": {},
   "source": [
    "## Intro to Business Analytics Assignment 1\n",
    "\n",
    "### Contributors\n",
    "- Stanisław Howard\n",
    "- Alexis Van den Heede, s231860\n",
    "- Matthias Van Mechelen\n"
   ]
  },
  {
   "cell_type": "code",
   "execution_count": 1,
   "metadata": {},
   "outputs": [],
   "source": [
    "import pandas as pd\n",
    "import numpy as np\n",
    "import matplotlib.pyplot as plt"
   ]
  },
  {
   "cell_type": "code",
   "execution_count": 2,
   "metadata": {},
   "outputs": [],
   "source": [
    "df = pd.read_csv('data/Trips_2018.csv')"
   ]
  },
  {
   "cell_type": "code",
   "execution_count": 3,
   "metadata": {},
   "outputs": [
    {
     "data": {
      "text/html": [
       "<div>\n",
       "<style scoped>\n",
       "    .dataframe tbody tr th:only-of-type {\n",
       "        vertical-align: middle;\n",
       "    }\n",
       "\n",
       "    .dataframe tbody tr th {\n",
       "        vertical-align: top;\n",
       "    }\n",
       "\n",
       "    .dataframe thead th {\n",
       "        text-align: right;\n",
       "    }\n",
       "</style>\n",
       "<table border=\"1\" class=\"dataframe\">\n",
       "  <thead>\n",
       "    <tr style=\"text-align: right;\">\n",
       "      <th></th>\n",
       "      <th>Unnamed: 0</th>\n",
       "      <th>tripduration</th>\n",
       "      <th>starttime</th>\n",
       "      <th>stoptime</th>\n",
       "      <th>start_station_id</th>\n",
       "      <th>start_station_latitude</th>\n",
       "      <th>start_station_longitude</th>\n",
       "      <th>end_station_id</th>\n",
       "      <th>end_station_latitude</th>\n",
       "      <th>end_station_longitude</th>\n",
       "      <th>bikeid</th>\n",
       "      <th>usertype</th>\n",
       "      <th>birth_year</th>\n",
       "      <th>gender</th>\n",
       "    </tr>\n",
       "  </thead>\n",
       "  <tbody>\n",
       "    <tr>\n",
       "      <th>0</th>\n",
       "      <td>0</td>\n",
       "      <td>970</td>\n",
       "      <td>2018-01-01 13:50:57.4340</td>\n",
       "      <td>2018-01-01 14:07:08.1860</td>\n",
       "      <td>72.0</td>\n",
       "      <td>40.767272</td>\n",
       "      <td>-73.993929</td>\n",
       "      <td>505.0</td>\n",
       "      <td>40.749013</td>\n",
       "      <td>-73.988484</td>\n",
       "      <td>31956</td>\n",
       "      <td>Subscriber</td>\n",
       "      <td>1992</td>\n",
       "      <td>1</td>\n",
       "    </tr>\n",
       "    <tr>\n",
       "      <th>1</th>\n",
       "      <td>1</td>\n",
       "      <td>723</td>\n",
       "      <td>2018-01-01 15:33:30.1820</td>\n",
       "      <td>2018-01-01 15:45:33.3410</td>\n",
       "      <td>72.0</td>\n",
       "      <td>40.767272</td>\n",
       "      <td>-73.993929</td>\n",
       "      <td>3255.0</td>\n",
       "      <td>40.750585</td>\n",
       "      <td>-73.994685</td>\n",
       "      <td>32536</td>\n",
       "      <td>Subscriber</td>\n",
       "      <td>1969</td>\n",
       "      <td>1</td>\n",
       "    </tr>\n",
       "    <tr>\n",
       "      <th>2</th>\n",
       "      <td>2</td>\n",
       "      <td>496</td>\n",
       "      <td>2018-01-01 15:39:18.3370</td>\n",
       "      <td>2018-01-01 15:47:35.1720</td>\n",
       "      <td>72.0</td>\n",
       "      <td>40.767272</td>\n",
       "      <td>-73.993929</td>\n",
       "      <td>525.0</td>\n",
       "      <td>40.755942</td>\n",
       "      <td>-74.002116</td>\n",
       "      <td>16069</td>\n",
       "      <td>Subscriber</td>\n",
       "      <td>1956</td>\n",
       "      <td>1</td>\n",
       "    </tr>\n",
       "    <tr>\n",
       "      <th>3</th>\n",
       "      <td>3</td>\n",
       "      <td>306</td>\n",
       "      <td>2018-01-01 15:40:13.3720</td>\n",
       "      <td>2018-01-01 15:45:20.1910</td>\n",
       "      <td>72.0</td>\n",
       "      <td>40.767272</td>\n",
       "      <td>-73.993929</td>\n",
       "      <td>447.0</td>\n",
       "      <td>40.763707</td>\n",
       "      <td>-73.985162</td>\n",
       "      <td>31781</td>\n",
       "      <td>Subscriber</td>\n",
       "      <td>1974</td>\n",
       "      <td>1</td>\n",
       "    </tr>\n",
       "    <tr>\n",
       "      <th>4</th>\n",
       "      <td>4</td>\n",
       "      <td>306</td>\n",
       "      <td>2018-01-01 18:14:51.5680</td>\n",
       "      <td>2018-01-01 18:19:57.6420</td>\n",
       "      <td>72.0</td>\n",
       "      <td>40.767272</td>\n",
       "      <td>-73.993929</td>\n",
       "      <td>3356.0</td>\n",
       "      <td>40.774667</td>\n",
       "      <td>-73.984706</td>\n",
       "      <td>30319</td>\n",
       "      <td>Subscriber</td>\n",
       "      <td>1992</td>\n",
       "      <td>1</td>\n",
       "    </tr>\n",
       "  </tbody>\n",
       "</table>\n",
       "</div>"
      ],
      "text/plain": [
       "   Unnamed: 0  tripduration                 starttime   \n",
       "0           0           970  2018-01-01 13:50:57.4340  \\\n",
       "1           1           723  2018-01-01 15:33:30.1820   \n",
       "2           2           496  2018-01-01 15:39:18.3370   \n",
       "3           3           306  2018-01-01 15:40:13.3720   \n",
       "4           4           306  2018-01-01 18:14:51.5680   \n",
       "\n",
       "                   stoptime  start_station_id  start_station_latitude   \n",
       "0  2018-01-01 14:07:08.1860              72.0               40.767272  \\\n",
       "1  2018-01-01 15:45:33.3410              72.0               40.767272   \n",
       "2  2018-01-01 15:47:35.1720              72.0               40.767272   \n",
       "3  2018-01-01 15:45:20.1910              72.0               40.767272   \n",
       "4  2018-01-01 18:19:57.6420              72.0               40.767272   \n",
       "\n",
       "   start_station_longitude  end_station_id  end_station_latitude   \n",
       "0               -73.993929           505.0             40.749013  \\\n",
       "1               -73.993929          3255.0             40.750585   \n",
       "2               -73.993929           525.0             40.755942   \n",
       "3               -73.993929           447.0             40.763707   \n",
       "4               -73.993929          3356.0             40.774667   \n",
       "\n",
       "   end_station_longitude  bikeid    usertype  birth_year  gender  \n",
       "0             -73.988484   31956  Subscriber        1992       1  \n",
       "1             -73.994685   32536  Subscriber        1969       1  \n",
       "2             -74.002116   16069  Subscriber        1956       1  \n",
       "3             -73.985162   31781  Subscriber        1974       1  \n",
       "4             -73.984706   30319  Subscriber        1992       1  "
      ]
     },
     "execution_count": 3,
     "metadata": {},
     "output_type": "execute_result"
    }
   ],
   "source": [
    "df_copy = df.copy()\n",
    "df.head()"
   ]
  },
  {
   "cell_type": "code",
   "execution_count": 4,
   "metadata": {},
   "outputs": [],
   "source": [
    "# rerun this to save time if you make a typo and need original df again\n",
    "df = df_copy.copy()"
   ]
  },
  {
   "cell_type": "code",
   "execution_count": 5,
   "metadata": {},
   "outputs": [
    {
     "data": {
      "text/html": [
       "<div>\n",
       "<style scoped>\n",
       "    .dataframe tbody tr th:only-of-type {\n",
       "        vertical-align: middle;\n",
       "    }\n",
       "\n",
       "    .dataframe tbody tr th {\n",
       "        vertical-align: top;\n",
       "    }\n",
       "\n",
       "    .dataframe thead th {\n",
       "        text-align: right;\n",
       "    }\n",
       "</style>\n",
       "<table border=\"1\" class=\"dataframe\">\n",
       "  <thead>\n",
       "    <tr style=\"text-align: right;\">\n",
       "      <th></th>\n",
       "      <th>tripduration</th>\n",
       "      <th>starttime</th>\n",
       "      <th>stoptime</th>\n",
       "      <th>start_station_id</th>\n",
       "      <th>start_station_latitude</th>\n",
       "      <th>start_station_longitude</th>\n",
       "      <th>end_station_id</th>\n",
       "      <th>end_station_latitude</th>\n",
       "      <th>end_station_longitude</th>\n",
       "      <th>bikeid</th>\n",
       "      <th>usertype</th>\n",
       "      <th>birth_year</th>\n",
       "      <th>gender</th>\n",
       "    </tr>\n",
       "    <tr>\n",
       "      <th>trip_id</th>\n",
       "      <th></th>\n",
       "      <th></th>\n",
       "      <th></th>\n",
       "      <th></th>\n",
       "      <th></th>\n",
       "      <th></th>\n",
       "      <th></th>\n",
       "      <th></th>\n",
       "      <th></th>\n",
       "      <th></th>\n",
       "      <th></th>\n",
       "      <th></th>\n",
       "      <th></th>\n",
       "    </tr>\n",
       "  </thead>\n",
       "  <tbody>\n",
       "    <tr>\n",
       "      <th>0</th>\n",
       "      <td>970</td>\n",
       "      <td>2018-01-01 13:50:57.4340</td>\n",
       "      <td>2018-01-01 14:07:08.1860</td>\n",
       "      <td>72.0</td>\n",
       "      <td>40.767272</td>\n",
       "      <td>-73.993929</td>\n",
       "      <td>505.0</td>\n",
       "      <td>40.749013</td>\n",
       "      <td>-73.988484</td>\n",
       "      <td>31956</td>\n",
       "      <td>Subscriber</td>\n",
       "      <td>1992</td>\n",
       "      <td>1</td>\n",
       "    </tr>\n",
       "    <tr>\n",
       "      <th>1</th>\n",
       "      <td>723</td>\n",
       "      <td>2018-01-01 15:33:30.1820</td>\n",
       "      <td>2018-01-01 15:45:33.3410</td>\n",
       "      <td>72.0</td>\n",
       "      <td>40.767272</td>\n",
       "      <td>-73.993929</td>\n",
       "      <td>3255.0</td>\n",
       "      <td>40.750585</td>\n",
       "      <td>-73.994685</td>\n",
       "      <td>32536</td>\n",
       "      <td>Subscriber</td>\n",
       "      <td>1969</td>\n",
       "      <td>1</td>\n",
       "    </tr>\n",
       "    <tr>\n",
       "      <th>2</th>\n",
       "      <td>496</td>\n",
       "      <td>2018-01-01 15:39:18.3370</td>\n",
       "      <td>2018-01-01 15:47:35.1720</td>\n",
       "      <td>72.0</td>\n",
       "      <td>40.767272</td>\n",
       "      <td>-73.993929</td>\n",
       "      <td>525.0</td>\n",
       "      <td>40.755942</td>\n",
       "      <td>-74.002116</td>\n",
       "      <td>16069</td>\n",
       "      <td>Subscriber</td>\n",
       "      <td>1956</td>\n",
       "      <td>1</td>\n",
       "    </tr>\n",
       "    <tr>\n",
       "      <th>3</th>\n",
       "      <td>306</td>\n",
       "      <td>2018-01-01 15:40:13.3720</td>\n",
       "      <td>2018-01-01 15:45:20.1910</td>\n",
       "      <td>72.0</td>\n",
       "      <td>40.767272</td>\n",
       "      <td>-73.993929</td>\n",
       "      <td>447.0</td>\n",
       "      <td>40.763707</td>\n",
       "      <td>-73.985162</td>\n",
       "      <td>31781</td>\n",
       "      <td>Subscriber</td>\n",
       "      <td>1974</td>\n",
       "      <td>1</td>\n",
       "    </tr>\n",
       "    <tr>\n",
       "      <th>4</th>\n",
       "      <td>306</td>\n",
       "      <td>2018-01-01 18:14:51.5680</td>\n",
       "      <td>2018-01-01 18:19:57.6420</td>\n",
       "      <td>72.0</td>\n",
       "      <td>40.767272</td>\n",
       "      <td>-73.993929</td>\n",
       "      <td>3356.0</td>\n",
       "      <td>40.774667</td>\n",
       "      <td>-73.984706</td>\n",
       "      <td>30319</td>\n",
       "      <td>Subscriber</td>\n",
       "      <td>1992</td>\n",
       "      <td>1</td>\n",
       "    </tr>\n",
       "  </tbody>\n",
       "</table>\n",
       "</div>"
      ],
      "text/plain": [
       "         tripduration                 starttime                  stoptime   \n",
       "trip_id                                                                     \n",
       "0                 970  2018-01-01 13:50:57.4340  2018-01-01 14:07:08.1860  \\\n",
       "1                 723  2018-01-01 15:33:30.1820  2018-01-01 15:45:33.3410   \n",
       "2                 496  2018-01-01 15:39:18.3370  2018-01-01 15:47:35.1720   \n",
       "3                 306  2018-01-01 15:40:13.3720  2018-01-01 15:45:20.1910   \n",
       "4                 306  2018-01-01 18:14:51.5680  2018-01-01 18:19:57.6420   \n",
       "\n",
       "         start_station_id  start_station_latitude  start_station_longitude   \n",
       "trip_id                                                                      \n",
       "0                    72.0               40.767272               -73.993929  \\\n",
       "1                    72.0               40.767272               -73.993929   \n",
       "2                    72.0               40.767272               -73.993929   \n",
       "3                    72.0               40.767272               -73.993929   \n",
       "4                    72.0               40.767272               -73.993929   \n",
       "\n",
       "         end_station_id  end_station_latitude  end_station_longitude  bikeid   \n",
       "trip_id                                                                        \n",
       "0                 505.0             40.749013             -73.988484   31956  \\\n",
       "1                3255.0             40.750585             -73.994685   32536   \n",
       "2                 525.0             40.755942             -74.002116   16069   \n",
       "3                 447.0             40.763707             -73.985162   31781   \n",
       "4                3356.0             40.774667             -73.984706   30319   \n",
       "\n",
       "           usertype  birth_year  gender  \n",
       "trip_id                                  \n",
       "0        Subscriber        1992       1  \n",
       "1        Subscriber        1969       1  \n",
       "2        Subscriber        1956       1  \n",
       "3        Subscriber        1974       1  \n",
       "4        Subscriber        1992       1  "
      ]
     },
     "execution_count": 5,
     "metadata": {},
     "output_type": "execute_result"
    }
   ],
   "source": [
    "# col 0 is unnamed, change name to trip_id convert column to index\n",
    "df.rename(columns={'Unnamed: 0':'trip_id'}, inplace=True)\n",
    "df.set_index('trip_id', inplace=True)\n",
    "df.head()"
   ]
  },
  {
   "cell_type": "code",
   "execution_count": 6,
   "metadata": {},
   "outputs": [
    {
     "data": {
      "text/html": [
       "<div>\n",
       "<style scoped>\n",
       "    .dataframe tbody tr th:only-of-type {\n",
       "        vertical-align: middle;\n",
       "    }\n",
       "\n",
       "    .dataframe tbody tr th {\n",
       "        vertical-align: top;\n",
       "    }\n",
       "\n",
       "    .dataframe thead th {\n",
       "        text-align: right;\n",
       "    }\n",
       "</style>\n",
       "<table border=\"1\" class=\"dataframe\">\n",
       "  <thead>\n",
       "    <tr style=\"text-align: right;\">\n",
       "      <th></th>\n",
       "      <th>tripduration</th>\n",
       "      <th>starttime</th>\n",
       "      <th>stoptime</th>\n",
       "      <th>start_station_id</th>\n",
       "      <th>start_station_latitude</th>\n",
       "      <th>start_station_longitude</th>\n",
       "      <th>end_station_id</th>\n",
       "      <th>end_station_latitude</th>\n",
       "      <th>end_station_longitude</th>\n",
       "      <th>bikeid</th>\n",
       "      <th>usertype</th>\n",
       "      <th>birth_year</th>\n",
       "      <th>gender</th>\n",
       "    </tr>\n",
       "    <tr>\n",
       "      <th>trip_id</th>\n",
       "      <th></th>\n",
       "      <th></th>\n",
       "      <th></th>\n",
       "      <th></th>\n",
       "      <th></th>\n",
       "      <th></th>\n",
       "      <th></th>\n",
       "      <th></th>\n",
       "      <th></th>\n",
       "      <th></th>\n",
       "      <th></th>\n",
       "      <th></th>\n",
       "      <th></th>\n",
       "    </tr>\n",
       "  </thead>\n",
       "  <tbody>\n",
       "    <tr>\n",
       "      <th>0</th>\n",
       "      <td>970</td>\n",
       "      <td>2018-01-01 13:50:57.434</td>\n",
       "      <td>2018-01-01 14:07:08.186</td>\n",
       "      <td>72.0</td>\n",
       "      <td>40.767272</td>\n",
       "      <td>-73.993929</td>\n",
       "      <td>505.0</td>\n",
       "      <td>40.749013</td>\n",
       "      <td>-73.988484</td>\n",
       "      <td>31956</td>\n",
       "      <td>Subscriber</td>\n",
       "      <td>1992</td>\n",
       "      <td>1</td>\n",
       "    </tr>\n",
       "    <tr>\n",
       "      <th>1</th>\n",
       "      <td>723</td>\n",
       "      <td>2018-01-01 15:33:30.182</td>\n",
       "      <td>2018-01-01 15:45:33.341</td>\n",
       "      <td>72.0</td>\n",
       "      <td>40.767272</td>\n",
       "      <td>-73.993929</td>\n",
       "      <td>3255.0</td>\n",
       "      <td>40.750585</td>\n",
       "      <td>-73.994685</td>\n",
       "      <td>32536</td>\n",
       "      <td>Subscriber</td>\n",
       "      <td>1969</td>\n",
       "      <td>1</td>\n",
       "    </tr>\n",
       "    <tr>\n",
       "      <th>2</th>\n",
       "      <td>496</td>\n",
       "      <td>2018-01-01 15:39:18.337</td>\n",
       "      <td>2018-01-01 15:47:35.172</td>\n",
       "      <td>72.0</td>\n",
       "      <td>40.767272</td>\n",
       "      <td>-73.993929</td>\n",
       "      <td>525.0</td>\n",
       "      <td>40.755942</td>\n",
       "      <td>-74.002116</td>\n",
       "      <td>16069</td>\n",
       "      <td>Subscriber</td>\n",
       "      <td>1956</td>\n",
       "      <td>1</td>\n",
       "    </tr>\n",
       "    <tr>\n",
       "      <th>3</th>\n",
       "      <td>306</td>\n",
       "      <td>2018-01-01 15:40:13.372</td>\n",
       "      <td>2018-01-01 15:45:20.191</td>\n",
       "      <td>72.0</td>\n",
       "      <td>40.767272</td>\n",
       "      <td>-73.993929</td>\n",
       "      <td>447.0</td>\n",
       "      <td>40.763707</td>\n",
       "      <td>-73.985162</td>\n",
       "      <td>31781</td>\n",
       "      <td>Subscriber</td>\n",
       "      <td>1974</td>\n",
       "      <td>1</td>\n",
       "    </tr>\n",
       "    <tr>\n",
       "      <th>4</th>\n",
       "      <td>306</td>\n",
       "      <td>2018-01-01 18:14:51.568</td>\n",
       "      <td>2018-01-01 18:19:57.642</td>\n",
       "      <td>72.0</td>\n",
       "      <td>40.767272</td>\n",
       "      <td>-73.993929</td>\n",
       "      <td>3356.0</td>\n",
       "      <td>40.774667</td>\n",
       "      <td>-73.984706</td>\n",
       "      <td>30319</td>\n",
       "      <td>Subscriber</td>\n",
       "      <td>1992</td>\n",
       "      <td>1</td>\n",
       "    </tr>\n",
       "  </tbody>\n",
       "</table>\n",
       "</div>"
      ],
      "text/plain": [
       "         tripduration               starttime                stoptime   \n",
       "trip_id                                                                 \n",
       "0                 970 2018-01-01 13:50:57.434 2018-01-01 14:07:08.186  \\\n",
       "1                 723 2018-01-01 15:33:30.182 2018-01-01 15:45:33.341   \n",
       "2                 496 2018-01-01 15:39:18.337 2018-01-01 15:47:35.172   \n",
       "3                 306 2018-01-01 15:40:13.372 2018-01-01 15:45:20.191   \n",
       "4                 306 2018-01-01 18:14:51.568 2018-01-01 18:19:57.642   \n",
       "\n",
       "         start_station_id  start_station_latitude  start_station_longitude   \n",
       "trip_id                                                                      \n",
       "0                    72.0               40.767272               -73.993929  \\\n",
       "1                    72.0               40.767272               -73.993929   \n",
       "2                    72.0               40.767272               -73.993929   \n",
       "3                    72.0               40.767272               -73.993929   \n",
       "4                    72.0               40.767272               -73.993929   \n",
       "\n",
       "         end_station_id  end_station_latitude  end_station_longitude  bikeid   \n",
       "trip_id                                                                        \n",
       "0                 505.0             40.749013             -73.988484   31956  \\\n",
       "1                3255.0             40.750585             -73.994685   32536   \n",
       "2                 525.0             40.755942             -74.002116   16069   \n",
       "3                 447.0             40.763707             -73.985162   31781   \n",
       "4                3356.0             40.774667             -73.984706   30319   \n",
       "\n",
       "           usertype  birth_year  gender  \n",
       "trip_id                                  \n",
       "0        Subscriber        1992       1  \n",
       "1        Subscriber        1969       1  \n",
       "2        Subscriber        1956       1  \n",
       "3        Subscriber        1974       1  \n",
       "4        Subscriber        1992       1  "
      ]
     },
     "execution_count": 6,
     "metadata": {},
     "output_type": "execute_result"
    }
   ],
   "source": [
    "#  convert start time and stop time to datetime objects\n",
    "df['starttime'] = pd.to_datetime(df['starttime'], format=\"%Y-%m-%d %H:%M:%S.%f\")\n",
    "df['stoptime'] = pd.to_datetime(df['stoptime'], format=\"%Y-%m-%d %H:%M:%S.%f\")\n",
    "df.head()"
   ]
  },
  {
   "cell_type": "code",
   "execution_count": 7,
   "metadata": {},
   "outputs": [
    {
     "name": "stdout",
     "output_type": "stream",
     "text": [
      "(17548339, 13)\n"
     ]
    },
    {
     "data": {
      "text/html": [
       "<div>\n",
       "<style scoped>\n",
       "    .dataframe tbody tr th:only-of-type {\n",
       "        vertical-align: middle;\n",
       "    }\n",
       "\n",
       "    .dataframe tbody tr th {\n",
       "        vertical-align: top;\n",
       "    }\n",
       "\n",
       "    .dataframe thead th {\n",
       "        text-align: right;\n",
       "    }\n",
       "</style>\n",
       "<table border=\"1\" class=\"dataframe\">\n",
       "  <thead>\n",
       "    <tr style=\"text-align: right;\">\n",
       "      <th></th>\n",
       "      <th>tripduration</th>\n",
       "      <th>starttime</th>\n",
       "      <th>stoptime</th>\n",
       "      <th>start_station_id</th>\n",
       "      <th>start_station_latitude</th>\n",
       "      <th>start_station_longitude</th>\n",
       "      <th>end_station_id</th>\n",
       "      <th>end_station_latitude</th>\n",
       "      <th>end_station_longitude</th>\n",
       "      <th>bikeid</th>\n",
       "      <th>birth_year</th>\n",
       "      <th>gender</th>\n",
       "      <th>usertype_Subscriber</th>\n",
       "    </tr>\n",
       "    <tr>\n",
       "      <th>trip_id</th>\n",
       "      <th></th>\n",
       "      <th></th>\n",
       "      <th></th>\n",
       "      <th></th>\n",
       "      <th></th>\n",
       "      <th></th>\n",
       "      <th></th>\n",
       "      <th></th>\n",
       "      <th></th>\n",
       "      <th></th>\n",
       "      <th></th>\n",
       "      <th></th>\n",
       "      <th></th>\n",
       "    </tr>\n",
       "  </thead>\n",
       "  <tbody>\n",
       "    <tr>\n",
       "      <th>0</th>\n",
       "      <td>970</td>\n",
       "      <td>2018-01-01 13:50:57.434</td>\n",
       "      <td>2018-01-01 14:07:08.186</td>\n",
       "      <td>72.0</td>\n",
       "      <td>40.767272</td>\n",
       "      <td>-73.993929</td>\n",
       "      <td>505.0</td>\n",
       "      <td>40.749013</td>\n",
       "      <td>-73.988484</td>\n",
       "      <td>31956</td>\n",
       "      <td>1992</td>\n",
       "      <td>1</td>\n",
       "      <td>1</td>\n",
       "    </tr>\n",
       "    <tr>\n",
       "      <th>1</th>\n",
       "      <td>723</td>\n",
       "      <td>2018-01-01 15:33:30.182</td>\n",
       "      <td>2018-01-01 15:45:33.341</td>\n",
       "      <td>72.0</td>\n",
       "      <td>40.767272</td>\n",
       "      <td>-73.993929</td>\n",
       "      <td>3255.0</td>\n",
       "      <td>40.750585</td>\n",
       "      <td>-73.994685</td>\n",
       "      <td>32536</td>\n",
       "      <td>1969</td>\n",
       "      <td>1</td>\n",
       "      <td>1</td>\n",
       "    </tr>\n",
       "    <tr>\n",
       "      <th>2</th>\n",
       "      <td>496</td>\n",
       "      <td>2018-01-01 15:39:18.337</td>\n",
       "      <td>2018-01-01 15:47:35.172</td>\n",
       "      <td>72.0</td>\n",
       "      <td>40.767272</td>\n",
       "      <td>-73.993929</td>\n",
       "      <td>525.0</td>\n",
       "      <td>40.755942</td>\n",
       "      <td>-74.002116</td>\n",
       "      <td>16069</td>\n",
       "      <td>1956</td>\n",
       "      <td>1</td>\n",
       "      <td>1</td>\n",
       "    </tr>\n",
       "    <tr>\n",
       "      <th>3</th>\n",
       "      <td>306</td>\n",
       "      <td>2018-01-01 15:40:13.372</td>\n",
       "      <td>2018-01-01 15:45:20.191</td>\n",
       "      <td>72.0</td>\n",
       "      <td>40.767272</td>\n",
       "      <td>-73.993929</td>\n",
       "      <td>447.0</td>\n",
       "      <td>40.763707</td>\n",
       "      <td>-73.985162</td>\n",
       "      <td>31781</td>\n",
       "      <td>1974</td>\n",
       "      <td>1</td>\n",
       "      <td>1</td>\n",
       "    </tr>\n",
       "    <tr>\n",
       "      <th>4</th>\n",
       "      <td>306</td>\n",
       "      <td>2018-01-01 18:14:51.568</td>\n",
       "      <td>2018-01-01 18:19:57.642</td>\n",
       "      <td>72.0</td>\n",
       "      <td>40.767272</td>\n",
       "      <td>-73.993929</td>\n",
       "      <td>3356.0</td>\n",
       "      <td>40.774667</td>\n",
       "      <td>-73.984706</td>\n",
       "      <td>30319</td>\n",
       "      <td>1992</td>\n",
       "      <td>1</td>\n",
       "      <td>1</td>\n",
       "    </tr>\n",
       "  </tbody>\n",
       "</table>\n",
       "</div>"
      ],
      "text/plain": [
       "         tripduration               starttime                stoptime   \n",
       "trip_id                                                                 \n",
       "0                 970 2018-01-01 13:50:57.434 2018-01-01 14:07:08.186  \\\n",
       "1                 723 2018-01-01 15:33:30.182 2018-01-01 15:45:33.341   \n",
       "2                 496 2018-01-01 15:39:18.337 2018-01-01 15:47:35.172   \n",
       "3                 306 2018-01-01 15:40:13.372 2018-01-01 15:45:20.191   \n",
       "4                 306 2018-01-01 18:14:51.568 2018-01-01 18:19:57.642   \n",
       "\n",
       "         start_station_id  start_station_latitude  start_station_longitude   \n",
       "trip_id                                                                      \n",
       "0                    72.0               40.767272               -73.993929  \\\n",
       "1                    72.0               40.767272               -73.993929   \n",
       "2                    72.0               40.767272               -73.993929   \n",
       "3                    72.0               40.767272               -73.993929   \n",
       "4                    72.0               40.767272               -73.993929   \n",
       "\n",
       "         end_station_id  end_station_latitude  end_station_longitude  bikeid   \n",
       "trip_id                                                                        \n",
       "0                 505.0             40.749013             -73.988484   31956  \\\n",
       "1                3255.0             40.750585             -73.994685   32536   \n",
       "2                 525.0             40.755942             -74.002116   16069   \n",
       "3                 447.0             40.763707             -73.985162   31781   \n",
       "4                3356.0             40.774667             -73.984706   30319   \n",
       "\n",
       "         birth_year  gender  usertype_Subscriber  \n",
       "trip_id                                           \n",
       "0              1992       1                    1  \n",
       "1              1969       1                    1  \n",
       "2              1956       1                    1  \n",
       "3              1974       1                    1  \n",
       "4              1992       1                    1  "
      ]
     },
     "execution_count": 7,
     "metadata": {},
     "output_type": "execute_result"
    }
   ],
   "source": [
    "# make user type dummy, get shape\n",
    "df = pd.get_dummies(df, columns=['usertype'], dtype=int, drop_first=True)\n",
    "print(df.shape)\n",
    "df.head()\n"
   ]
  },
  {
   "cell_type": "code",
   "execution_count": 8,
   "metadata": {},
   "outputs": [],
   "source": [
    "# plotting coordinates\n",
    "def plot_map(coords):\n",
    "    plt.scatter(coords[:,0], coords[:,1], s=0.75)\n",
    "    plt.ylabel('Latitude')\n",
    "    plt.xlabel('Longitude')\n",
    "    plt.show()"
   ]
  },
  {
   "cell_type": "code",
   "execution_count": 9,
   "metadata": {},
   "outputs": [],
   "source": [
    "# get lat and long\n",
    "coords = df[['start_station_longitude','start_station_latitude']].values\n",
    "coords = np.unique(coords, axis=0)\n",
    "\n"
   ]
  },
  {
   "cell_type": "code",
   "execution_count": 10,
   "metadata": {},
   "outputs": [
    {
     "data": {
      "image/png": "[encoded data removed]",
      "text/plain": [
       "<Figure size 640x480 with 1 Axes>"
      ]
     },
     "metadata": {},
     "output_type": "display_data"
    }
   ],
   "source": [
    "plot_map(coords)\n"
   ]
  },
  {
   "cell_type": "markdown",
   "metadata": {},
   "source": [
    "Notice outlier (Canada, Montreal). quickly get rid of it to get an overview of the rest of the data. We will not yet delete the outlier datapoint from the dataframe."
   ]
  },
  {
   "cell_type": "code",
   "execution_count": 11,
   "metadata": {},
   "outputs": [
    {
     "name": "stdout",
     "output_type": "stream",
     "text": [
      "(917, 2)\n"
     ]
    }
   ],
   "source": [
    "# get rid of outlier longitude > -73.6\n",
    "coords = coords[coords[:,0] < -73.6]\n",
    "print(coords.shape) #shape is 917 here as it still includes the grid anomalies"
   ]
  },
  {
   "cell_type": "code",
   "execution_count": 12,
   "metadata": {},
   "outputs": [
    {
     "data": {
      "image/png": "[encoded data removed]",
      "text/plain": [
       "<Figure size 640x480 with 1 Axes>"
      ]
     },
     "metadata": {},
     "output_type": "display_data"
    }
   ],
   "source": [
    "plot_map(coords)\n",
    "# shows the unique start and end stations present in the dataset."
   ]
  },
  {
   "cell_type": "markdown",
   "metadata": {},
   "source": [
    "Notice very structured grid in top right corner. After investigation these data points were NaN's. We will rid of these data points, and at the same time we get rid of the canada outlier. "
   ]
  },
  {
   "cell_type": "code",
   "execution_count": 13,
   "metadata": {},
   "outputs": [
    {
     "name": "stdout",
     "output_type": "stream",
     "text": [
      "tripduration                  0\n",
      "starttime                     0\n",
      "stoptime                      0\n",
      "start_station_id           2497\n",
      "start_station_latitude        0\n",
      "start_station_longitude       0\n",
      "end_station_id             2497\n",
      "end_station_latitude          0\n",
      "end_station_longitude         0\n",
      "bikeid                        0\n",
      "birth_year                    0\n",
      "gender                        0\n",
      "usertype_Subscriber           0\n",
      "dtype: int64\n",
      "(917, 2)\n"
     ]
    }
   ],
   "source": [
    "# print where nan is in df, get rid of nan (= get rid of gridded outliers), create copy of df and start station coordinates\n",
    "print(df.isnull().sum())\n",
    "df = df[~np.isnan(df['start_station_id'])]\n",
    "df = df[~np.isnan(df['end_station_id'])]\n",
    "# get rid of Canada outlier\n",
    "df = df[df['start_station_longitude'] < -73.6]\n",
    "df = df[df['end_station_longitude'] < -73.6]\n",
    "# get lat and long\n",
    "coords_start = df[['start_station_longitude','start_station_latitude']].values\n",
    "coords_start = np.unique(coords_start, axis=0)\n",
    "coords_start_copy = coords_start.copy()\n",
    "print(coords.shape)"
   ]
  },
  {
   "cell_type": "code",
   "execution_count": 14,
   "metadata": {},
   "outputs": [
    {
     "data": {
      "image/png": "[encoded data removed]",
      "text/plain": [
       "<Figure size 640x480 with 1 Axes>"
      ]
     },
     "metadata": {},
     "output_type": "display_data"
    }
   ],
   "source": [
    "plot_map(coords_start)"
   ]
  },
  {
   "cell_type": "code",
   "execution_count": 15,
   "metadata": {},
   "outputs": [
    {
     "name": "stdout",
     "output_type": "stream",
     "text": [
      "(849, 2)\n",
      "(817, 2)\n"
     ]
    }
   ],
   "source": [
    "# amount of distinct end stations does not match amount of start stations as seen from comparing shapes, create copy of end station coordinates.\n",
    "coords_end = df[['end_station_longitude','end_station_latitude']].values\n",
    "coords_end = np.unique(coords_end, axis=0)\n",
    "print(coords_end.shape)\n",
    "print(coords_start.shape)\n",
    "coords_end_copy = coords_end.copy()\n"
   ]
  },
  {
   "cell_type": "code",
   "execution_count": 16,
   "metadata": {},
   "outputs": [
    {
     "data": {
      "image/png": "[encoded data removed]",
      "text/plain": [
       "<Figure size 640x480 with 1 Axes>"
      ]
     },
     "metadata": {},
     "output_type": "display_data"
    }
   ],
   "source": [
    "#what does the difference look like visually?\n",
    "plot_map(coords_end)"
   ]
  },
  {
   "cell_type": "code",
   "execution_count": 17,
   "metadata": {},
   "outputs": [
    {
     "data": {
      "image/png": "[encoded data removed]",
      "text/plain": [
       "<Figure size 640x480 with 1 Axes>"
      ]
     },
     "metadata": {},
     "output_type": "display_data"
    }
   ],
   "source": [
    "# highlight the end stations that are not in the start stations on the map of all en\n",
    "coords_end_not_in_start = []\n",
    "for i in range(len(coords_end)):\n",
    "    if coords_end[i] not in coords_start:\n",
    "        coords_end_not_in_start.append(coords_end[i])\n",
    "coords_end_not_in_start = np.array(coords_end_not_in_start)\n",
    "plt.scatter(coords_start[:,0], coords_start[:,1], s=0.75)\n",
    "plt.ylabel('Latitude')\n",
    "plt.xlabel('Longitude')\n",
    "plt.scatter(coords_end_not_in_start[:,0], coords_end_not_in_start[:,1], s=0.75, c='r')\n",
    "plt.show()\n"
   ]
  },
  {
   "cell_type": "markdown",
   "metadata": {},
   "source": [
    "Since there are more end stations than start stations and all start stations are also an end station, the clustering should be done using the end stations in order to cluster every station considered in the data. "
   ]
  },
  {
   "cell_type": "markdown",
   "metadata": {},
   "source": [
    "Clustering the stations"
   ]
  },
  {
   "cell_type": "code",
   "execution_count": 18,
   "metadata": {},
   "outputs": [],
   "source": [
    "# import kmeans\n",
    "from sklearn.cluster import KMeans"
   ]
  },
  {
   "cell_type": "code",
   "execution_count": 19,
   "metadata": {},
   "outputs": [],
   "source": [
    "n_clusters = 20"
   ]
  },
  {
   "cell_type": "code",
   "execution_count": 20,
   "metadata": {},
   "outputs": [
    {
     "name": "stderr",
     "output_type": "stream",
     "text": [
      "C:\\Users\\alexi\\AppData\\Roaming\\Python\\Python311\\site-packages\\sklearn\\cluster\\_kmeans.py:1412: FutureWarning: The default value of `n_init` will change from 10 to 'auto' in 1.4. Set the value of `n_init` explicitly to suppress the warning\n",
      "  super()._check_params_vs_input(X, default_n_init=10)\n"
     ]
    }
   ],
   "source": [
    "# make kmeans model\n",
    "kmeans = KMeans(n_clusters=n_clusters, random_state=0).fit(coords_end) # using coords here instead of df to increase speed"
   ]
  },
  {
   "cell_type": "markdown",
   "metadata": {},
   "source": [
    "Train on coords instead of DataFrame to increase speed, then predict to save labels on df, model is trained on same data as you predict the cluster for, so the cluster they belong to will be the same one as they belonged to during convergence of the Kmeans cluster."
   ]
  },
  {
   "cell_type": "code",
   "execution_count": 21,
   "metadata": {},
   "outputs": [],
   "source": [
    "df['drop_label'] = kmeans.predict(df[['end_station_longitude','end_station_latitude']].values)\n",
    "df['pick_label'] = kmeans.predict(df[['start_station_longitude','start_station_latitude']].values)\n",
    "df_copy2 = df.copy()\n"
   ]
  },
  {
   "cell_type": "code",
   "execution_count": 22,
   "metadata": {},
   "outputs": [
    {
     "data": {
      "image/png": "[encoded data removed]",
      "text/plain": [
       "<Figure size 640x480 with 1 Axes>"
      ]
     },
     "metadata": {},
     "output_type": "display_data"
    }
   ],
   "source": [
    "# plot with cluster colour & centriods\n",
    "plt.scatter(coords_end[:,0], coords_end[:,1], c=kmeans.labels_, s=5)\n",
    "plt.scatter(kmeans.cluster_centers_[:,0], kmeans.cluster_centers_[:,1], c='red', marker=\"x\", s=50)\n",
    "plt.ylabel('Latitude')\n",
    "plt.xlabel('Longitude')\n",
    "plt.show()"
   ]
  },
  {
   "cell_type": "code",
   "execution_count": 81,
   "metadata": {},
   "outputs": [
    {
     "name": "stdout",
     "output_type": "stream",
     "text": [
      "(17545760, 15)\n"
     ]
    },
    {
     "data": {
      "text/html": [
       "<div>\n",
       "<style scoped>\n",
       "    .dataframe tbody tr th:only-of-type {\n",
       "        vertical-align: middle;\n",
       "    }\n",
       "\n",
       "    .dataframe tbody tr th {\n",
       "        vertical-align: top;\n",
       "    }\n",
       "\n",
       "    .dataframe thead th {\n",
       "        text-align: right;\n",
       "    }\n",
       "</style>\n",
       "<table border=\"1\" class=\"dataframe\">\n",
       "  <thead>\n",
       "    <tr style=\"text-align: right;\">\n",
       "      <th></th>\n",
       "      <th>tripduration</th>\n",
       "      <th>starttime</th>\n",
       "      <th>stoptime</th>\n",
       "      <th>start_station_id</th>\n",
       "      <th>start_station_latitude</th>\n",
       "      <th>start_station_longitude</th>\n",
       "      <th>end_station_id</th>\n",
       "      <th>end_station_latitude</th>\n",
       "      <th>end_station_longitude</th>\n",
       "      <th>bikeid</th>\n",
       "      <th>birth_year</th>\n",
       "      <th>gender</th>\n",
       "      <th>usertype_Subscriber</th>\n",
       "      <th>drop_label</th>\n",
       "      <th>pick_label</th>\n",
       "    </tr>\n",
       "    <tr>\n",
       "      <th>trip_id</th>\n",
       "      <th></th>\n",
       "      <th></th>\n",
       "      <th></th>\n",
       "      <th></th>\n",
       "      <th></th>\n",
       "      <th></th>\n",
       "      <th></th>\n",
       "      <th></th>\n",
       "      <th></th>\n",
       "      <th></th>\n",
       "      <th></th>\n",
       "      <th></th>\n",
       "      <th></th>\n",
       "      <th></th>\n",
       "      <th></th>\n",
       "    </tr>\n",
       "  </thead>\n",
       "  <tbody>\n",
       "    <tr>\n",
       "      <th>0</th>\n",
       "      <td>970</td>\n",
       "      <td>2018-01-01 13:50:57.434</td>\n",
       "      <td>2018-01-01 14:07:08.186</td>\n",
       "      <td>72.0</td>\n",
       "      <td>40.767272</td>\n",
       "      <td>-73.993929</td>\n",
       "      <td>505.0</td>\n",
       "      <td>40.749013</td>\n",
       "      <td>-73.988484</td>\n",
       "      <td>31956</td>\n",
       "      <td>1992</td>\n",
       "      <td>1</td>\n",
       "      <td>1</td>\n",
       "      <td>1</td>\n",
       "      <td>1</td>\n",
       "    </tr>\n",
       "    <tr>\n",
       "      <th>1</th>\n",
       "      <td>723</td>\n",
       "      <td>2018-01-01 15:33:30.182</td>\n",
       "      <td>2018-01-01 15:45:33.341</td>\n",
       "      <td>72.0</td>\n",
       "      <td>40.767272</td>\n",
       "      <td>-73.993929</td>\n",
       "      <td>3255.0</td>\n",
       "      <td>40.750585</td>\n",
       "      <td>-73.994685</td>\n",
       "      <td>32536</td>\n",
       "      <td>1969</td>\n",
       "      <td>1</td>\n",
       "      <td>1</td>\n",
       "      <td>1</td>\n",
       "      <td>1</td>\n",
       "    </tr>\n",
       "    <tr>\n",
       "      <th>2</th>\n",
       "      <td>496</td>\n",
       "      <td>2018-01-01 15:39:18.337</td>\n",
       "      <td>2018-01-01 15:47:35.172</td>\n",
       "      <td>72.0</td>\n",
       "      <td>40.767272</td>\n",
       "      <td>-73.993929</td>\n",
       "      <td>525.0</td>\n",
       "      <td>40.755942</td>\n",
       "      <td>-74.002116</td>\n",
       "      <td>16069</td>\n",
       "      <td>1956</td>\n",
       "      <td>1</td>\n",
       "      <td>1</td>\n",
       "      <td>1</td>\n",
       "      <td>1</td>\n",
       "    </tr>\n",
       "    <tr>\n",
       "      <th>3</th>\n",
       "      <td>306</td>\n",
       "      <td>2018-01-01 15:40:13.372</td>\n",
       "      <td>2018-01-01 15:45:20.191</td>\n",
       "      <td>72.0</td>\n",
       "      <td>40.767272</td>\n",
       "      <td>-73.993929</td>\n",
       "      <td>447.0</td>\n",
       "      <td>40.763707</td>\n",
       "      <td>-73.985162</td>\n",
       "      <td>31781</td>\n",
       "      <td>1974</td>\n",
       "      <td>1</td>\n",
       "      <td>1</td>\n",
       "      <td>1</td>\n",
       "      <td>1</td>\n",
       "    </tr>\n",
       "    <tr>\n",
       "      <th>4</th>\n",
       "      <td>306</td>\n",
       "      <td>2018-01-01 18:14:51.568</td>\n",
       "      <td>2018-01-01 18:19:57.642</td>\n",
       "      <td>72.0</td>\n",
       "      <td>40.767272</td>\n",
       "      <td>-73.993929</td>\n",
       "      <td>3356.0</td>\n",
       "      <td>40.774667</td>\n",
       "      <td>-73.984706</td>\n",
       "      <td>30319</td>\n",
       "      <td>1992</td>\n",
       "      <td>1</td>\n",
       "      <td>1</td>\n",
       "      <td>15</td>\n",
       "      <td>1</td>\n",
       "    </tr>\n",
       "  </tbody>\n",
       "</table>\n",
       "</div>"
      ],
      "text/plain": [
       "         tripduration               starttime                stoptime   \n",
       "trip_id                                                                 \n",
       "0                 970 2018-01-01 13:50:57.434 2018-01-01 14:07:08.186  \\\n",
       "1                 723 2018-01-01 15:33:30.182 2018-01-01 15:45:33.341   \n",
       "2                 496 2018-01-01 15:39:18.337 2018-01-01 15:47:35.172   \n",
       "3                 306 2018-01-01 15:40:13.372 2018-01-01 15:45:20.191   \n",
       "4                 306 2018-01-01 18:14:51.568 2018-01-01 18:19:57.642   \n",
       "\n",
       "         start_station_id  start_station_latitude  start_station_longitude   \n",
       "trip_id                                                                      \n",
       "0                    72.0               40.767272               -73.993929  \\\n",
       "1                    72.0               40.767272               -73.993929   \n",
       "2                    72.0               40.767272               -73.993929   \n",
       "3                    72.0               40.767272               -73.993929   \n",
       "4                    72.0               40.767272               -73.993929   \n",
       "\n",
       "         end_station_id  end_station_latitude  end_station_longitude  bikeid   \n",
       "trip_id                                                                        \n",
       "0                 505.0             40.749013             -73.988484   31956  \\\n",
       "1                3255.0             40.750585             -73.994685   32536   \n",
       "2                 525.0             40.755942             -74.002116   16069   \n",
       "3                 447.0             40.763707             -73.985162   31781   \n",
       "4                3356.0             40.774667             -73.984706   30319   \n",
       "\n",
       "         birth_year  gender  usertype_Subscriber  drop_label  pick_label  \n",
       "trip_id                                                                   \n",
       "0              1992       1                    1           1           1  \n",
       "1              1969       1                    1           1           1  \n",
       "2              1956       1                    1           1           1  \n",
       "3              1974       1                    1           1           1  \n",
       "4              1992       1                    1          15           1  "
      ]
     },
     "execution_count": 81,
     "metadata": {},
     "output_type": "execute_result"
    }
   ],
   "source": [
    "# run this cell for coords of starting stations and the fully edited dataframe\n",
    "coords_start = coords_start_copy.copy()\n",
    "coords_end = coords_end_copy.copy()\n",
    "df = df_copy2.copy()\n",
    "print(df.shape) # to check if no data loss, should be (17548339, 15)\n",
    "df.head()\n"
   ]
  },
  {
   "cell_type": "markdown",
   "metadata": {},
   "source": [
    "**Now part 2**\n",
    "\n",
    "We need to predict the following"
   ]
  },
  {
   "cell_type": "code",
   "execution_count": 82,
   "metadata": {},
   "outputs": [
    {
     "name": "stdout",
     "output_type": "stream",
     "text": [
      "Index([10], dtype='int32', name='pick_label')\n"
     ]
    }
   ],
   "source": [
    "# find n largest pick cluster, randomly chose pick label over drop label\n",
    "n = 1\n",
    "largest_cluster = df['pick_label'].value_counts().nlargest(n).index[:n]\n",
    "print(largest_cluster)\n",
    "# get all rows with largest cluster \n",
    "df = df[df['pick_label'].isin(largest_cluster)]\n"
   ]
  },
  {
   "cell_type": "code",
   "execution_count": 83,
   "metadata": {},
   "outputs": [
    {
     "data": {
      "text/html": [
       "<div>\n",
       "<style scoped>\n",
       "    .dataframe tbody tr th:only-of-type {\n",
       "        vertical-align: middle;\n",
       "    }\n",
       "\n",
       "    .dataframe tbody tr th {\n",
       "        vertical-align: top;\n",
       "    }\n",
       "\n",
       "    .dataframe thead th {\n",
       "        text-align: right;\n",
       "    }\n",
       "</style>\n",
       "<table border=\"1\" class=\"dataframe\">\n",
       "  <thead>\n",
       "    <tr style=\"text-align: right;\">\n",
       "      <th></th>\n",
       "      <th>tripduration</th>\n",
       "      <th>starttime</th>\n",
       "      <th>stoptime</th>\n",
       "      <th>start_station_id</th>\n",
       "      <th>start_station_latitude</th>\n",
       "      <th>start_station_longitude</th>\n",
       "      <th>end_station_id</th>\n",
       "      <th>end_station_latitude</th>\n",
       "      <th>end_station_longitude</th>\n",
       "      <th>bikeid</th>\n",
       "      <th>birth_year</th>\n",
       "      <th>gender</th>\n",
       "      <th>usertype_Subscriber</th>\n",
       "      <th>drop_label</th>\n",
       "      <th>pick_label</th>\n",
       "    </tr>\n",
       "    <tr>\n",
       "      <th>trip_id</th>\n",
       "      <th></th>\n",
       "      <th></th>\n",
       "      <th></th>\n",
       "      <th></th>\n",
       "      <th></th>\n",
       "      <th></th>\n",
       "      <th></th>\n",
       "      <th></th>\n",
       "      <th></th>\n",
       "      <th></th>\n",
       "      <th></th>\n",
       "      <th></th>\n",
       "      <th></th>\n",
       "      <th></th>\n",
       "      <th></th>\n",
       "    </tr>\n",
       "  </thead>\n",
       "  <tbody>\n",
       "    <tr>\n",
       "      <th>4183</th>\n",
       "      <td>1176</td>\n",
       "      <td>2018-01-01 01:11:58.481</td>\n",
       "      <td>2018-01-01 01:31:34.729</td>\n",
       "      <td>127.0</td>\n",
       "      <td>40.731724</td>\n",
       "      <td>-74.006744</td>\n",
       "      <td>382.0</td>\n",
       "      <td>40.734927</td>\n",
       "      <td>-73.992005</td>\n",
       "      <td>25514</td>\n",
       "      <td>1979</td>\n",
       "      <td>2</td>\n",
       "      <td>1</td>\n",
       "      <td>6</td>\n",
       "      <td>10</td>\n",
       "    </tr>\n",
       "    <tr>\n",
       "      <th>4184</th>\n",
       "      <td>1824</td>\n",
       "      <td>2018-01-01 01:12:26.474</td>\n",
       "      <td>2018-01-01 01:42:50.474</td>\n",
       "      <td>127.0</td>\n",
       "      <td>40.731724</td>\n",
       "      <td>-74.006744</td>\n",
       "      <td>530.0</td>\n",
       "      <td>40.771522</td>\n",
       "      <td>-73.990541</td>\n",
       "      <td>30370</td>\n",
       "      <td>1969</td>\n",
       "      <td>1</td>\n",
       "      <td>1</td>\n",
       "      <td>1</td>\n",
       "      <td>10</td>\n",
       "    </tr>\n",
       "    <tr>\n",
       "      <th>4185</th>\n",
       "      <td>613</td>\n",
       "      <td>2018-01-01 09:55:37.097</td>\n",
       "      <td>2018-01-01 10:05:50.697</td>\n",
       "      <td>127.0</td>\n",
       "      <td>40.731724</td>\n",
       "      <td>-74.006744</td>\n",
       "      <td>3255.0</td>\n",
       "      <td>40.750585</td>\n",
       "      <td>-73.994685</td>\n",
       "      <td>25036</td>\n",
       "      <td>1966</td>\n",
       "      <td>1</td>\n",
       "      <td>1</td>\n",
       "      <td>1</td>\n",
       "      <td>10</td>\n",
       "    </tr>\n",
       "    <tr>\n",
       "      <th>4186</th>\n",
       "      <td>463</td>\n",
       "      <td>2018-01-01 10:27:30.491</td>\n",
       "      <td>2018-01-01 10:35:13.638</td>\n",
       "      <td>127.0</td>\n",
       "      <td>40.731724</td>\n",
       "      <td>-74.006744</td>\n",
       "      <td>229.0</td>\n",
       "      <td>40.727434</td>\n",
       "      <td>-73.993790</td>\n",
       "      <td>33019</td>\n",
       "      <td>1992</td>\n",
       "      <td>1</td>\n",
       "      <td>1</td>\n",
       "      <td>16</td>\n",
       "      <td>10</td>\n",
       "    </tr>\n",
       "    <tr>\n",
       "      <th>4187</th>\n",
       "      <td>454</td>\n",
       "      <td>2018-01-01 10:27:52.262</td>\n",
       "      <td>2018-01-01 10:35:26.884</td>\n",
       "      <td>127.0</td>\n",
       "      <td>40.731724</td>\n",
       "      <td>-74.006744</td>\n",
       "      <td>229.0</td>\n",
       "      <td>40.727434</td>\n",
       "      <td>-73.993790</td>\n",
       "      <td>27221</td>\n",
       "      <td>1991</td>\n",
       "      <td>2</td>\n",
       "      <td>1</td>\n",
       "      <td>16</td>\n",
       "      <td>10</td>\n",
       "    </tr>\n",
       "  </tbody>\n",
       "</table>\n",
       "</div>"
      ],
      "text/plain": [
       "         tripduration               starttime                stoptime   \n",
       "trip_id                                                                 \n",
       "4183             1176 2018-01-01 01:11:58.481 2018-01-01 01:31:34.729  \\\n",
       "4184             1824 2018-01-01 01:12:26.474 2018-01-01 01:42:50.474   \n",
       "4185              613 2018-01-01 09:55:37.097 2018-01-01 10:05:50.697   \n",
       "4186              463 2018-01-01 10:27:30.491 2018-01-01 10:35:13.638   \n",
       "4187              454 2018-01-01 10:27:52.262 2018-01-01 10:35:26.884   \n",
       "\n",
       "         start_station_id  start_station_latitude  start_station_longitude   \n",
       "trip_id                                                                      \n",
       "4183                127.0               40.731724               -74.006744  \\\n",
       "4184                127.0               40.731724               -74.006744   \n",
       "4185                127.0               40.731724               -74.006744   \n",
       "4186                127.0               40.731724               -74.006744   \n",
       "4187                127.0               40.731724               -74.006744   \n",
       "\n",
       "         end_station_id  end_station_latitude  end_station_longitude  bikeid   \n",
       "trip_id                                                                        \n",
       "4183              382.0             40.734927             -73.992005   25514  \\\n",
       "4184              530.0             40.771522             -73.990541   30370   \n",
       "4185             3255.0             40.750585             -73.994685   25036   \n",
       "4186              229.0             40.727434             -73.993790   33019   \n",
       "4187              229.0             40.727434             -73.993790   27221   \n",
       "\n",
       "         birth_year  gender  usertype_Subscriber  drop_label  pick_label  \n",
       "trip_id                                                                   \n",
       "4183           1979       2                    1           6          10  \n",
       "4184           1969       1                    1           1          10  \n",
       "4185           1966       1                    1           1          10  \n",
       "4186           1992       1                    1          16          10  \n",
       "4187           1991       2                    1          16          10  "
      ]
     },
     "execution_count": 83,
     "metadata": {},
     "output_type": "execute_result"
    }
   ],
   "source": [
    "df.head()"
   ]
  },
  {
   "cell_type": "code",
   "execution_count": 84,
   "metadata": {},
   "outputs": [
    {
     "data": {
      "image/png": "[encoded data removed]",
      "text/plain": [
       "<Figure size 2000x1000 with 1 Axes>"
      ]
     },
     "metadata": {},
     "output_type": "display_data"
    }
   ],
   "source": [
    "# 1st plot amount of predictions per hour per cluster\n",
    "grouby_label = df.groupby(['pick_label', df['starttime'].dt.hour]).size().reset_index(name='count')\n",
    "grouby_label = grouby_label.pivot(index='starttime', columns='pick_label', values='count')\n",
    "grouby_label.plot(figsize=(20,10), legend=True)\n",
    "plt.ylabel('Count')\n",
    "plt.xlabel('Hour')\n",
    "plt.show()"
   ]
  },
  {
   "cell_type": "markdown",
   "metadata": {},
   "source": [
    "Start by splitting up the dataset. Necessary because how are you going to aggregate the data by hour if each datapoint has 2 temporal parameters (start and end station times). Note that we can only use the hour and cluster as input to our model, as these are the only variables we have certain information on for the future datapoints for which we predict the demand, so we only have to copy these variables over in the new datasets. "
   ]
  },
  {
   "cell_type": "code",
   "execution_count": 85,
   "metadata": {},
   "outputs": [
    {
     "name": "stderr",
     "output_type": "stream",
     "text": [
      "C:\\Users\\alexi\\AppData\\Local\\Temp\\ipykernel_40456\\1523437805.py:6: SettingWithCopyWarning: \n",
      "A value is trying to be set on a copy of a slice from a DataFrame.\n",
      "Try using .loc[row_indexer,col_indexer] = value instead\n",
      "\n",
      "See the caveats in the documentation: https://pandas.pydata.org/pandas-docs/stable/user_guide/indexing.html#returning-a-view-versus-a-copy\n",
      "  df_departures[\"start_hour\"] = df_departures[\"starttime\"].dt.hour\n",
      "C:\\Users\\alexi\\AppData\\Local\\Temp\\ipykernel_40456\\1523437805.py:7: SettingWithCopyWarning: \n",
      "A value is trying to be set on a copy of a slice from a DataFrame.\n",
      "Try using .loc[row_indexer,col_indexer] = value instead\n",
      "\n",
      "See the caveats in the documentation: https://pandas.pydata.org/pandas-docs/stable/user_guide/indexing.html#returning-a-view-versus-a-copy\n",
      "  df_departures[\"start_day\"] = df_departures[\"starttime\"].dt.day\n",
      "C:\\Users\\alexi\\AppData\\Local\\Temp\\ipykernel_40456\\1523437805.py:8: SettingWithCopyWarning: \n",
      "A value is trying to be set on a copy of a slice from a DataFrame.\n",
      "Try using .loc[row_indexer,col_indexer] = value instead\n",
      "\n",
      "See the caveats in the documentation: https://pandas.pydata.org/pandas-docs/stable/user_guide/indexing.html#returning-a-view-versus-a-copy\n",
      "  df_departures[\"start_month\"] = df_departures[\"starttime\"].dt.month\n",
      "C:\\Users\\alexi\\AppData\\Local\\Temp\\ipykernel_40456\\1523437805.py:9: SettingWithCopyWarning: \n",
      "A value is trying to be set on a copy of a slice from a DataFrame.\n",
      "Try using .loc[row_indexer,col_indexer] = value instead\n",
      "\n",
      "See the caveats in the documentation: https://pandas.pydata.org/pandas-docs/stable/user_guide/indexing.html#returning-a-view-versus-a-copy\n",
      "  df_arrivals[\"stop_hour\"] = df_arrivals[\"stoptime\"].dt.hour\n",
      "C:\\Users\\alexi\\AppData\\Local\\Temp\\ipykernel_40456\\1523437805.py:10: SettingWithCopyWarning: \n",
      "A value is trying to be set on a copy of a slice from a DataFrame.\n",
      "Try using .loc[row_indexer,col_indexer] = value instead\n",
      "\n",
      "See the caveats in the documentation: https://pandas.pydata.org/pandas-docs/stable/user_guide/indexing.html#returning-a-view-versus-a-copy\n",
      "  df_arrivals[\"stop_day\"] = df_arrivals[\"stoptime\"].dt.day\n",
      "C:\\Users\\alexi\\AppData\\Local\\Temp\\ipykernel_40456\\1523437805.py:11: SettingWithCopyWarning: \n",
      "A value is trying to be set on a copy of a slice from a DataFrame.\n",
      "Try using .loc[row_indexer,col_indexer] = value instead\n",
      "\n",
      "See the caveats in the documentation: https://pandas.pydata.org/pandas-docs/stable/user_guide/indexing.html#returning-a-view-versus-a-copy\n",
      "  df_arrivals[\"stop_month\"] = df_arrivals[\"stoptime\"].dt.month\n",
      "C:\\Users\\alexi\\AppData\\Local\\Temp\\ipykernel_40456\\1523437805.py:12: SettingWithCopyWarning: \n",
      "A value is trying to be set on a copy of a slice from a DataFrame\n",
      "\n",
      "See the caveats in the documentation: https://pandas.pydata.org/pandas-docs/stable/user_guide/indexing.html#returning-a-view-versus-a-copy\n",
      "  df_departures.drop(columns=[\"starttime\"], inplace=True)\n",
      "C:\\Users\\alexi\\AppData\\Local\\Temp\\ipykernel_40456\\1523437805.py:13: SettingWithCopyWarning: \n",
      "A value is trying to be set on a copy of a slice from a DataFrame\n",
      "\n",
      "See the caveats in the documentation: https://pandas.pydata.org/pandas-docs/stable/user_guide/indexing.html#returning-a-view-versus-a-copy\n",
      "  df_arrivals.drop(columns=[\"stoptime\"], inplace=True)\n"
     ]
    }
   ],
   "source": [
    "#splitting the dataset\n",
    "df_departures = df[[\"starttime\", \"pick_label\"]]\n",
    "df_arrivals = df[[\"stoptime\", \"drop_label\"]]\n",
    "\n",
    "#replace the starttime datetime object by a column with hour and cols with date DD, MM. For df_departures and stoptime, DD, MM for df_arrivals\n",
    "df_departures[\"start_hour\"] = df_departures[\"starttime\"].dt.hour\n",
    "df_departures[\"start_day\"] = df_departures[\"starttime\"].dt.day\n",
    "df_departures[\"start_month\"] = df_departures[\"starttime\"].dt.month\n",
    "df_arrivals[\"stop_hour\"] = df_arrivals[\"stoptime\"].dt.hour\n",
    "df_arrivals[\"stop_day\"] = df_arrivals[\"stoptime\"].dt.day\n",
    "df_arrivals[\"stop_month\"] = df_arrivals[\"stoptime\"].dt.month\n",
    "df_departures.drop(columns=[\"starttime\"], inplace=True)\n",
    "df_arrivals.drop(columns=[\"stoptime\"], inplace=True)\n",
    "\n",
    "\n",
    "#remove trip_id index. We will aggregate the data by hour, so this will lost its meaning. \n",
    "df_departures.reset_index(drop=True, inplace=True)\n",
    "df_arrivals.reset_index(drop=True, inplace=True)\n",
    "\n",
    "#Count the amount of dataframe rows that have the same label, hour, day and month. and add the count as extra column\n",
    "df_departures = df_departures.groupby([\"pick_label\", \"start_hour\", \"start_day\", \"start_month\"]).size().reset_index(name=\"count\")\n",
    "df_arrivals = df_arrivals.groupby([\"drop_label\", \"stop_hour\", \"stop_day\", \"stop_month\"]).size().reset_index(name=\"count\")\n",
    "\n"
   ]
  },
  {
   "cell_type": "markdown",
   "metadata": {},
   "source": [
    "note: days close to eachother being linked in prediction is already included in the model as you have days and months in your model. And i dont think that it matters that i split up days and months (my guess what taht the model believes the first day of each month is closely related which it isnt. But the month is also included, nevertheless it is a fair thought. Maybe it is better to include the day and month as a counter instead, this will avoid the first day of each month being related! (as yes the months differentiate them, but the first of jun is still close in dist to the first of jan in my method, while with a continuous counter this would really not be the case. Change later"
   ]
  },
  {
   "cell_type": "code",
   "execution_count": 86,
   "metadata": {},
   "outputs": [
    {
     "data": {
      "text/html": [
       "<div>\n",
       "<style scoped>\n",
       "    .dataframe tbody tr th:only-of-type {\n",
       "        vertical-align: middle;\n",
       "    }\n",
       "\n",
       "    .dataframe tbody tr th {\n",
       "        vertical-align: top;\n",
       "    }\n",
       "\n",
       "    .dataframe thead th {\n",
       "        text-align: right;\n",
       "    }\n",
       "</style>\n",
       "<table border=\"1\" class=\"dataframe\">\n",
       "  <thead>\n",
       "    <tr style=\"text-align: right;\">\n",
       "      <th></th>\n",
       "      <th>drop_label</th>\n",
       "      <th>stop_hour</th>\n",
       "      <th>stop_day</th>\n",
       "      <th>stop_month</th>\n",
       "      <th>count</th>\n",
       "    </tr>\n",
       "  </thead>\n",
       "  <tbody>\n",
       "    <tr>\n",
       "      <th>0</th>\n",
       "      <td>0</td>\n",
       "      <td>0</td>\n",
       "      <td>1</td>\n",
       "      <td>2</td>\n",
       "      <td>1</td>\n",
       "    </tr>\n",
       "    <tr>\n",
       "      <th>1</th>\n",
       "      <td>0</td>\n",
       "      <td>0</td>\n",
       "      <td>1</td>\n",
       "      <td>3</td>\n",
       "      <td>1</td>\n",
       "    </tr>\n",
       "    <tr>\n",
       "      <th>2</th>\n",
       "      <td>0</td>\n",
       "      <td>0</td>\n",
       "      <td>1</td>\n",
       "      <td>10</td>\n",
       "      <td>2</td>\n",
       "    </tr>\n",
       "    <tr>\n",
       "      <th>3</th>\n",
       "      <td>0</td>\n",
       "      <td>0</td>\n",
       "      <td>2</td>\n",
       "      <td>5</td>\n",
       "      <td>1</td>\n",
       "    </tr>\n",
       "    <tr>\n",
       "      <th>4</th>\n",
       "      <td>0</td>\n",
       "      <td>0</td>\n",
       "      <td>2</td>\n",
       "      <td>9</td>\n",
       "      <td>1</td>\n",
       "    </tr>\n",
       "  </tbody>\n",
       "</table>\n",
       "</div>"
      ],
      "text/plain": [
       "   drop_label  stop_hour  stop_day  stop_month  count\n",
       "0           0          0         1           2      1\n",
       "1           0          0         1           3      1\n",
       "2           0          0         1          10      2\n",
       "3           0          0         2           5      1\n",
       "4           0          0         2           9      1"
      ]
     },
     "execution_count": 86,
     "metadata": {},
     "output_type": "execute_result"
    }
   ],
   "source": [
    "df_arrivals.head()"
   ]
  },
  {
   "cell_type": "code",
   "execution_count": 87,
   "metadata": {},
   "outputs": [
    {
     "data": {
      "text/html": [
       "<div>\n",
       "<style scoped>\n",
       "    .dataframe tbody tr th:only-of-type {\n",
       "        vertical-align: middle;\n",
       "    }\n",
       "\n",
       "    .dataframe tbody tr th {\n",
       "        vertical-align: top;\n",
       "    }\n",
       "\n",
       "    .dataframe thead th {\n",
       "        text-align: right;\n",
       "    }\n",
       "</style>\n",
       "<table border=\"1\" class=\"dataframe\">\n",
       "  <thead>\n",
       "    <tr style=\"text-align: right;\">\n",
       "      <th></th>\n",
       "      <th>pick_label</th>\n",
       "      <th>start_hour</th>\n",
       "      <th>start_day</th>\n",
       "      <th>start_month</th>\n",
       "      <th>count</th>\n",
       "    </tr>\n",
       "  </thead>\n",
       "  <tbody>\n",
       "    <tr>\n",
       "      <th>0</th>\n",
       "      <td>10</td>\n",
       "      <td>0</td>\n",
       "      <td>1</td>\n",
       "      <td>1</td>\n",
       "      <td>15</td>\n",
       "    </tr>\n",
       "    <tr>\n",
       "      <th>1</th>\n",
       "      <td>10</td>\n",
       "      <td>0</td>\n",
       "      <td>1</td>\n",
       "      <td>2</td>\n",
       "      <td>30</td>\n",
       "    </tr>\n",
       "    <tr>\n",
       "      <th>2</th>\n",
       "      <td>10</td>\n",
       "      <td>0</td>\n",
       "      <td>1</td>\n",
       "      <td>3</td>\n",
       "      <td>51</td>\n",
       "    </tr>\n",
       "    <tr>\n",
       "      <th>3</th>\n",
       "      <td>10</td>\n",
       "      <td>0</td>\n",
       "      <td>1</td>\n",
       "      <td>4</td>\n",
       "      <td>46</td>\n",
       "    </tr>\n",
       "    <tr>\n",
       "      <th>4</th>\n",
       "      <td>10</td>\n",
       "      <td>0</td>\n",
       "      <td>1</td>\n",
       "      <td>5</td>\n",
       "      <td>28</td>\n",
       "    </tr>\n",
       "  </tbody>\n",
       "</table>\n",
       "</div>"
      ],
      "text/plain": [
       "   pick_label  start_hour  start_day  start_month  count\n",
       "0          10           0          1            1     15\n",
       "1          10           0          1            2     30\n",
       "2          10           0          1            3     51\n",
       "3          10           0          1            4     46\n",
       "4          10           0          1            5     28"
      ]
     },
     "execution_count": 87,
     "metadata": {},
     "output_type": "execute_result"
    }
   ],
   "source": [
    "df_departures.head()"
   ]
  },
  {
   "cell_type": "markdown",
   "metadata": {},
   "source": [
    "Train two Random forest regressors. One to predict the amount of departures and one to predict the amount of arrivals. The data has to be split as required in the assignment: Training data contains data from januari - October. Test data contains data from November - December. Hence we will sort the data by month and exploit this sort to make the split. "
   ]
  },
  {
   "cell_type": "code",
   "execution_count": 88,
   "metadata": {},
   "outputs": [],
   "source": [
    "#sort the data by month in ascending order\n",
    "df_departures.sort_values(by=[\"start_month\"], inplace=True)\n",
    "df_arrivals.sort_values(by=[\"stop_month\"], inplace=True)"
   ]
  },
  {
   "cell_type": "code",
   "execution_count": 89,
   "metadata": {},
   "outputs": [
    {
     "name": "stdout",
     "output_type": "stream",
     "text": [
      "[ 1  2  3  4  5  6  7  8  9 10]\n",
      "[ 1  2  3  4  5  6  7  8  9 10]\n",
      "[11 12]\n",
      "[11 12]\n"
     ]
    }
   ],
   "source": [
    "from sklearn.ensemble import RandomForestRegressor\n",
    "from sklearn.metrics import r2_score\n",
    "\n",
    "\n",
    "\n",
    "#split the data into train and test data, training data from month 1-10, test data from month 11-12. \n",
    "X_train_dep = df_departures[df_departures[\"start_month\"] < 11].drop(columns=[\"count\"])\n",
    "X_test_dep = df_departures[df_departures[\"start_month\"] >= 11].drop(columns=[\"count\"])\n",
    "y_train_dep = df_departures[df_departures[\"start_month\"] < 11][\"count\"]\n",
    "y_test_dep = df_departures[df_departures[\"start_month\"] >= 11][\"count\"]\n",
    "X_train_arr = df_arrivals[df_arrivals[\"stop_month\"] < 11].drop(columns=[\"count\"])\n",
    "X_test_arr = df_arrivals[df_arrivals[\"stop_month\"] >= 11].drop(columns=[\"count\"])\n",
    "y_train_arr = df_arrivals[df_arrivals[\"stop_month\"] < 11][\"count\"]\n",
    "y_test_arr = df_arrivals[df_arrivals[\"stop_month\"] >= 11][\"count\"]\n",
    "\n",
    "#control check\n",
    "print(X_train_dep[\"start_month\"].unique())\n",
    "print(X_train_arr[\"stop_month\"].unique())\n",
    "print(X_test_dep[\"start_month\"].unique())\n",
    "print(X_test_arr[\"stop_month\"].unique())\n"
   ]
  },
  {
   "cell_type": "code",
   "execution_count": 90,
   "metadata": {},
   "outputs": [
    {
     "data": {
      "text/html": [
       "<style>#sk-container-id-6 {color: black;}#sk-container-id-6 pre{padding: 0;}#sk-container-id-6 div.sk-toggleable {background-color: white;}#sk-container-id-6 label.sk-toggleable__label {cursor: pointer;display: block;width: 100%;margin-bottom: 0;padding: 0.3em;box-sizing: border-box;text-align: center;}#sk-container-id-6 label.sk-toggleable__label-arrow:before {content: \"▸\";float: left;margin-right: 0.25em;color: #696969;}#sk-container-id-6 label.sk-toggleable__label-arrow:hover:before {color: black;}#sk-container-id-6 div.sk-estimator:hover label.sk-toggleable__label-arrow:before {color: black;}#sk-container-id-6 div.sk-toggleable__content {max-height: 0;max-width: 0;overflow: hidden;text-align: left;background-color: #f0f8ff;}#sk-container-id-6 div.sk-toggleable__content pre {margin: 0.2em;color: black;border-radius: 0.25em;background-color: #f0f8ff;}#sk-container-id-6 input.sk-toggleable__control:checked~div.sk-toggleable__content {max-height: 200px;max-width: 100%;overflow: auto;}#sk-container-id-6 input.sk-toggleable__control:checked~label.sk-toggleable__label-arrow:before {content: \"▾\";}#sk-container-id-6 div.sk-estimator input.sk-toggleable__control:checked~label.sk-toggleable__label {background-color: #d4ebff;}#sk-container-id-6 div.sk-label input.sk-toggleable__control:checked~label.sk-toggleable__label {background-color: #d4ebff;}#sk-container-id-6 input.sk-hidden--visually {border: 0;clip: rect(1px 1px 1px 1px);clip: rect(1px, 1px, 1px, 1px);height: 1px;margin: -1px;overflow: hidden;padding: 0;position: absolute;width: 1px;}#sk-container-id-6 div.sk-estimator {font-family: monospace;background-color: #f0f8ff;border: 1px dotted black;border-radius: 0.25em;box-sizing: border-box;margin-bottom: 0.5em;}#sk-container-id-6 div.sk-estimator:hover {background-color: #d4ebff;}#sk-container-id-6 div.sk-parallel-item::after {content: \"\";width: 100%;border-bottom: 1px solid gray;flex-grow: 1;}#sk-container-id-6 div.sk-label:hover label.sk-toggleable__label {background-color: #d4ebff;}#sk-container-id-6 div.sk-serial::before {content: \"\";position: absolute;border-left: 1px solid gray;box-sizing: border-box;top: 0;bottom: 0;left: 50%;z-index: 0;}#sk-container-id-6 div.sk-serial {display: flex;flex-direction: column;align-items: center;background-color: white;padding-right: 0.2em;padding-left: 0.2em;position: relative;}#sk-container-id-6 div.sk-item {position: relative;z-index: 1;}#sk-container-id-6 div.sk-parallel {display: flex;align-items: stretch;justify-content: center;background-color: white;position: relative;}#sk-container-id-6 div.sk-item::before, #sk-container-id-6 div.sk-parallel-item::before {content: \"\";position: absolute;border-left: 1px solid gray;box-sizing: border-box;top: 0;bottom: 0;left: 50%;z-index: -1;}#sk-container-id-6 div.sk-parallel-item {display: flex;flex-direction: column;z-index: 1;position: relative;background-color: white;}#sk-container-id-6 div.sk-parallel-item:first-child::after {align-self: flex-end;width: 50%;}#sk-container-id-6 div.sk-parallel-item:last-child::after {align-self: flex-start;width: 50%;}#sk-container-id-6 div.sk-parallel-item:only-child::after {width: 0;}#sk-container-id-6 div.sk-dashed-wrapped {border: 1px dashed gray;margin: 0 0.4em 0.5em 0.4em;box-sizing: border-box;padding-bottom: 0.4em;background-color: white;}#sk-container-id-6 div.sk-label label {font-family: monospace;font-weight: bold;display: inline-block;line-height: 1.2em;}#sk-container-id-6 div.sk-label-container {text-align: center;}#sk-container-id-6 div.sk-container {/* jupyter's `normalize.less` sets `[hidden] { display: none; }` but bootstrap.min.css set `[hidden] { display: none !important; }` so we also need the `!important` here to be able to override the default hidden behavior on the sphinx rendered scikit-learn.org. See: https://github.com/scikit-learn/scikit-learn/issues/21755 */display: inline-block !important;position: relative;}#sk-container-id-6 div.sk-text-repr-fallback {display: none;}</style><div id=\"sk-container-id-6\" class=\"sk-top-container\"><div class=\"sk-text-repr-fallback\"><pre>RandomForestRegressor(random_state=0)</pre><b>In a Jupyter environment, please rerun this cell to show the HTML representation or trust the notebook. <br />On GitHub, the HTML representation is unable to render, please try loading this page with nbviewer.org.</b></div><div class=\"sk-container\" hidden><div class=\"sk-item\"><div class=\"sk-estimator sk-toggleable\"><input class=\"sk-toggleable__control sk-hidden--visually\" id=\"sk-estimator-id-6\" type=\"checkbox\" checked><label for=\"sk-estimator-id-6\" class=\"sk-toggleable__label sk-toggleable__label-arrow\">RandomForestRegressor</label><div class=\"sk-toggleable__content\"><pre>RandomForestRegressor(random_state=0)</pre></div></div></div></div></div>"
      ],
      "text/plain": [
       "RandomForestRegressor(random_state=0)"
      ]
     },
     "execution_count": 90,
     "metadata": {},
     "output_type": "execute_result"
    }
   ],
   "source": [
    "#train the decision tree regressors\n",
    "reg_dep = RandomForestRegressor(random_state=0)\n",
    "reg_arr = RandomForestRegressor(random_state=0)\n",
    "reg_dep.fit(X_train_dep, y_train_dep)\n",
    "reg_arr.fit(X_train_arr, y_train_arr)"
   ]
  },
  {
   "cell_type": "markdown",
   "metadata": {},
   "source": [
    "Evaluate the models"
   ]
  },
  {
   "cell_type": "code",
   "execution_count": 91,
   "metadata": {},
   "outputs": [
    {
     "name": "stdout",
     "output_type": "stream",
     "text": [
      "R2 departures:  -0.6162978766736444\n",
      "R2 arrivals:  0.13511601567464082\n"
     ]
    }
   ],
   "source": [
    "#predict the amount of departures and arrivals\n",
    "y_pred_dep = reg_dep.predict(X_test_dep)\n",
    "y_pred_arr = reg_arr.predict(X_test_arr)\n",
    "\n",
    "#calculate the r2 score\n",
    "r2_dep = r2_score(y_test_dep, y_pred_dep)\n",
    "r2_arr = r2_score(y_test_arr, y_pred_arr)\n",
    "print(\"R2 departures: \", r2_dep)\n",
    "print(\"R2 arrivals: \", r2_arr)"
   ]
  },
  {
   "cell_type": "code",
   "execution_count": 92,
   "metadata": {},
   "outputs": [
    {
     "name": "stdout",
     "output_type": "stream",
     "text": [
      "R2 departures:  0.19190735468876063\n",
      "R2 arrivals:  0.5668463024301285\n"
     ]
    }
   ],
   "source": [
    "# test if month  are influencing the prediction in a bad way\n",
    "X_train_dep = df_departures[df_departures[\"start_month\"] < 11].drop(columns=[\"count\", \"start_month\"])\n",
    "X_test_dep = df_departures[df_departures[\"start_month\"] >= 11].drop(columns=[\"count\", \"start_month\"])\n",
    "y_train_dep = df_departures[df_departures[\"start_month\"] < 11][\"count\"]\n",
    "y_test_dep = df_departures[df_departures[\"start_month\"] >= 11][\"count\"]\n",
    "X_train_arr = df_arrivals[df_arrivals[\"stop_month\"] < 11].drop(columns=[\"count\", \"stop_month\"])\n",
    "X_test_arr = df_arrivals[df_arrivals[\"stop_month\"] >= 11].drop(columns=[\"count\", \"stop_month\"])\n",
    "y_train_arr = df_arrivals[df_arrivals[\"stop_month\"] < 11][\"count\"]\n",
    "y_test_arr = df_arrivals[df_arrivals[\"stop_month\"] >= 11][\"count\"]\n",
    "\n",
    "#train the decision tree regressors\n",
    "reg_dep = RandomForestRegressor(random_state=0)\n",
    "reg_arr = RandomForestRegressor(random_state=0)\n",
    "reg_dep.fit(X_train_dep, y_train_dep)\n",
    "reg_arr.fit(X_train_arr, y_train_arr)\n",
    "\n",
    "#predict the amount of departures and arrivals\n",
    "y_pred_dep = reg_dep.predict(X_test_dep)\n",
    "y_pred_arr = reg_arr.predict(X_test_arr)\n",
    "\n",
    "#calculate the r2 score\n",
    "r2_dep = r2_score(y_test_dep, y_pred_dep)\n",
    "r2_arr = r2_score(y_test_arr, y_pred_arr)\n",
    "print(\"R2 departures: \", r2_dep)\n",
    "print(\"R2 arrivals: \", r2_arr)"
   ]
  },
  {
   "cell_type": "code",
   "execution_count": 102,
   "metadata": {},
   "outputs": [
    {
     "name": "stdout",
     "output_type": "stream",
     "text": [
      "[ 1  2  3  4  5  6  7  8  9 10]\n",
      "[ 1  2  3  4  5  6  7  8  9 10]\n",
      "[11 12]\n",
      "[11 12]\n"
     ]
    }
   ],
   "source": [
    "# grid serach for hyperparameter tuning\n",
    "from sklearn.model_selection import GridSearchCV\n",
    "from sklearn.metrics import make_scorer\n",
    "\n",
    "#split the data into train and test data, training data from month 1-10, test data from month 11-12.\n",
    "X_train_dep = df_departures[df_departures[\"start_month\"] < 11].drop(columns=[\"count\"])\n",
    "X_test_dep = df_departures[df_departures[\"start_month\"] >= 11].drop(columns=[\"count\"])\n",
    "y_train_dep = df_departures[df_departures[\"start_month\"] < 11][\"count\"]\n",
    "y_test_dep = df_departures[df_departures[\"start_month\"] >= 11][\"count\"]\n",
    "X_train_arr = df_arrivals[df_arrivals[\"stop_month\"] < 11].drop(columns=[\"count\"])\n",
    "X_test_arr = df_arrivals[df_arrivals[\"stop_month\"] >= 11].drop(columns=[\"count\"])\n",
    "y_train_arr = df_arrivals[df_arrivals[\"stop_month\"] < 11][\"count\"]\n",
    "y_test_arr = df_arrivals[df_arrivals[\"stop_month\"] >= 11][\"count\"]\n",
    "\n",
    "#control check\n",
    "print(X_train_dep[\"start_month\"].unique())\n",
    "print(X_train_arr[\"stop_month\"].unique())\n",
    "print(X_test_dep[\"start_month\"].unique())\n",
    "print(X_test_arr[\"stop_month\"].unique())\n",
    "\n",
    "#make a scorer for the grid search\n",
    "scorer = make_scorer(r2_score)\n",
    "\n",
    "#make a parameter grid\n",
    "param_grid = {\n",
    "    \"n_estimators\": [10, 50, 100, 200],\n",
    "    \"max_depth\": [None, 5, 10, 20, 30],\n",
    "    \"min_samples_split\": [2, 5, 10, 20, 50],\n",
    "    \"min_samples_leaf\": [1, 2, 5, 10, 20, 50]\n",
    "}\n",
    "\n",
    "#make a grid search for the departures\n",
    "grid_dep = GridSearchCV(RandomForestRegressor(random_state=0), param_grid, cv=3, scoring=scorer)\n",
    "grid_dep.fit(X_train_dep, y_train_dep)\n",
    "\n",
    "#make a grid search for the arrivals\n",
    "grid_arr = GridSearchCV(RandomForestRegressor(random_state=0), param_grid, cv=3, scoring=scorer)\n",
    "grid_arr.fit(X_train_arr, y_train_arr)\n",
    "\n",
    "#predict the amount of departures and arrivals\n",
    "y_pred_dep = grid_dep.predict(X_test_dep)\n",
    "y_pred_arr = grid_arr.predict(X_test_arr)\n",
    "\n",
    "#calculate the r2 score\n",
    "r2_dep = r2_score(y_test_dep, y_pred_dep)\n",
    "r2_arr = r2_score(y_test_arr, y_pred_arr)\n",
    "print(\"R2 departures: \", r2_dep)\n",
    "print(\"R2 arrivals: \", r2_arr)\n",
    "\n",
    "\n"
   ]
  },
  {
   "cell_type": "markdown",
   "metadata": {},
   "source": [
    "Month makes model worse prodbably due to split "
   ]
  },
  {
   "cell_type": "markdown",
   "metadata": {},
   "source": [
    "Bad R^2 so feature engineer"
   ]
  },
  {
   "cell_type": "code",
   "execution_count": 93,
   "metadata": {},
   "outputs": [],
   "source": [
    "# add lag function\n",
    "def buildLaggedFeatures(s,columns, lag=2,dropna=True):\n",
    "    '''\n",
    "    From http://stackoverflow.com/questions/20410312/how-to-create-a-lagged-data-structure-using-pandas-dataframe\n",
    "    Builds a new DataFrame to facilitate regressing over all possible lagged features\n",
    "    '''\n",
    "    if type(s) is pd.DataFrame:\n",
    "        new_dict={}\n",
    "        for c in s.columns:\n",
    "            new_dict[c]=s[c]\n",
    "        for col_name in columns:\n",
    "            new_dict[col_name]=s[col_name]\n",
    "            # create lagged Series\n",
    "            for l in range(1,lag+1):\n",
    "                new_dict['%s_lag%d' %(col_name,l)]=s[col_name].shift(l)\n",
    "        res=pd.DataFrame(new_dict,index=s.index)\n",
    "\n",
    "    elif type(s) is pd.Series:\n",
    "        the_range=range(lag+1)\n",
    "        res=pd.concat([s.shift(i) for i in the_range],axis=1)\n",
    "        res.columns=['lag_%d' %i for i in the_range]\n",
    "    else:\n",
    "        print('Only works for DataFrame or Series')\n",
    "        return None\n",
    "    if dropna:\n",
    "        return res.dropna()\n",
    "    else:\n",
    "        return res "
   ]
  },
  {
   "cell_type": "code",
   "execution_count": 94,
   "metadata": {},
   "outputs": [],
   "source": [
    "# add lag features\n",
    "lag = 0\n",
    "df_departures = buildLaggedFeatures(df_departures, [\"count\"], lag=lag)\n",
    "df_arrivals = buildLaggedFeatures(df_arrivals, [\"count\"], lag=lag)"
   ]
  },
  {
   "cell_type": "code",
   "execution_count": 95,
   "metadata": {},
   "outputs": [
    {
     "data": {
      "text/html": [
       "<div>\n",
       "<style scoped>\n",
       "    .dataframe tbody tr th:only-of-type {\n",
       "        vertical-align: middle;\n",
       "    }\n",
       "\n",
       "    .dataframe tbody tr th {\n",
       "        vertical-align: top;\n",
       "    }\n",
       "\n",
       "    .dataframe thead th {\n",
       "        text-align: right;\n",
       "    }\n",
       "</style>\n",
       "<table border=\"1\" class=\"dataframe\">\n",
       "  <thead>\n",
       "    <tr style=\"text-align: right;\">\n",
       "      <th></th>\n",
       "      <th>pick_label</th>\n",
       "      <th>start_hour</th>\n",
       "      <th>start_day</th>\n",
       "      <th>start_month</th>\n",
       "      <th>count</th>\n",
       "    </tr>\n",
       "  </thead>\n",
       "  <tbody>\n",
       "    <tr>\n",
       "      <th>0</th>\n",
       "      <td>10</td>\n",
       "      <td>0</td>\n",
       "      <td>1</td>\n",
       "      <td>1</td>\n",
       "      <td>15</td>\n",
       "    </tr>\n",
       "    <tr>\n",
       "      <th>6230</th>\n",
       "      <td>10</td>\n",
       "      <td>17</td>\n",
       "      <td>5</td>\n",
       "      <td>1</td>\n",
       "      <td>71</td>\n",
       "    </tr>\n",
       "    <tr>\n",
       "      <th>6242</th>\n",
       "      <td>10</td>\n",
       "      <td>17</td>\n",
       "      <td>6</td>\n",
       "      <td>1</td>\n",
       "      <td>45</td>\n",
       "    </tr>\n",
       "    <tr>\n",
       "      <th>6254</th>\n",
       "      <td>10</td>\n",
       "      <td>17</td>\n",
       "      <td>7</td>\n",
       "      <td>1</td>\n",
       "      <td>62</td>\n",
       "    </tr>\n",
       "    <tr>\n",
       "      <th>6266</th>\n",
       "      <td>10</td>\n",
       "      <td>17</td>\n",
       "      <td>8</td>\n",
       "      <td>1</td>\n",
       "      <td>196</td>\n",
       "    </tr>\n",
       "  </tbody>\n",
       "</table>\n",
       "</div>"
      ],
      "text/plain": [
       "      pick_label  start_hour  start_day  start_month  count\n",
       "0             10           0          1            1     15\n",
       "6230          10          17          5            1     71\n",
       "6242          10          17          6            1     45\n",
       "6254          10          17          7            1     62\n",
       "6266          10          17          8            1    196"
      ]
     },
     "execution_count": 95,
     "metadata": {},
     "output_type": "execute_result"
    }
   ],
   "source": [
    "df_departures.head()"
   ]
  },
  {
   "cell_type": "code",
   "execution_count": 96,
   "metadata": {},
   "outputs": [
    {
     "data": {
      "text/html": [
       "<div>\n",
       "<style scoped>\n",
       "    .dataframe tbody tr th:only-of-type {\n",
       "        vertical-align: middle;\n",
       "    }\n",
       "\n",
       "    .dataframe tbody tr th {\n",
       "        vertical-align: top;\n",
       "    }\n",
       "\n",
       "    .dataframe thead th {\n",
       "        text-align: right;\n",
       "    }\n",
       "</style>\n",
       "<table border=\"1\" class=\"dataframe\">\n",
       "  <thead>\n",
       "    <tr style=\"text-align: right;\">\n",
       "      <th></th>\n",
       "      <th>drop_label</th>\n",
       "      <th>stop_hour</th>\n",
       "      <th>stop_day</th>\n",
       "      <th>stop_month</th>\n",
       "      <th>count</th>\n",
       "    </tr>\n",
       "  </thead>\n",
       "  <tbody>\n",
       "    <tr>\n",
       "      <th>55823</th>\n",
       "      <td>15</td>\n",
       "      <td>9</td>\n",
       "      <td>13</td>\n",
       "      <td>1</td>\n",
       "      <td>1</td>\n",
       "    </tr>\n",
       "    <tr>\n",
       "      <th>30029</th>\n",
       "      <td>6</td>\n",
       "      <td>10</td>\n",
       "      <td>3</td>\n",
       "      <td>1</td>\n",
       "      <td>29</td>\n",
       "    </tr>\n",
       "    <tr>\n",
       "      <th>67370</th>\n",
       "      <td>16</td>\n",
       "      <td>19</td>\n",
       "      <td>26</td>\n",
       "      <td>1</td>\n",
       "      <td>55</td>\n",
       "    </tr>\n",
       "    <tr>\n",
       "      <th>30041</th>\n",
       "      <td>6</td>\n",
       "      <td>10</td>\n",
       "      <td>4</td>\n",
       "      <td>1</td>\n",
       "      <td>3</td>\n",
       "    </tr>\n",
       "    <tr>\n",
       "      <th>30053</th>\n",
       "      <td>6</td>\n",
       "      <td>10</td>\n",
       "      <td>5</td>\n",
       "      <td>1</td>\n",
       "      <td>7</td>\n",
       "    </tr>\n",
       "  </tbody>\n",
       "</table>\n",
       "</div>"
      ],
      "text/plain": [
       "       drop_label  stop_hour  stop_day  stop_month  count\n",
       "55823          15          9        13           1      1\n",
       "30029           6         10         3           1     29\n",
       "67370          16         19        26           1     55\n",
       "30041           6         10         4           1      3\n",
       "30053           6         10         5           1      7"
      ]
     },
     "execution_count": 96,
     "metadata": {},
     "output_type": "execute_result"
    }
   ],
   "source": [
    "df_arrivals.head()"
   ]
  },
  {
   "cell_type": "code",
   "execution_count": 97,
   "metadata": {},
   "outputs": [],
   "source": [
    "# re train forest\n",
    "X_train_dep = df_departures[df_departures[\"start_month\"] < 11].drop(columns=[\"count\", \"start_month\"])\n",
    "X_test_dep = df_departures[df_departures[\"start_month\"] >= 11].drop(columns=[\"count\", \"start_month\"])\n",
    "y_train_dep = df_departures[df_departures[\"start_month\"] < 11][\"count\"]\n",
    "y_test_dep = df_departures[df_departures[\"start_month\"] >= 11][\"count\"]\n",
    "X_train_arr = df_arrivals[df_arrivals[\"stop_month\"] < 11].drop(columns=[\"count\", \"stop_month\"])\n",
    "X_test_arr = df_arrivals[df_arrivals[\"stop_month\"] >= 11].drop(columns=[\"count\", \"stop_month\"])\n",
    "y_train_arr = df_arrivals[df_arrivals[\"stop_month\"] < 11][\"count\"]\n",
    "y_test_arr = df_arrivals[df_arrivals[\"stop_month\"] >= 11][\"count\"]\n"
   ]
  },
  {
   "cell_type": "code",
   "execution_count": 98,
   "metadata": {},
   "outputs": [],
   "source": [
    "reg_dep = RandomForestRegressor(random_state=0)\n",
    "reg_arr = RandomForestRegressor(random_state=0)\n"
   ]
  },
  {
   "cell_type": "code",
   "execution_count": 99,
   "metadata": {},
   "outputs": [
    {
     "data": {
      "text/html": [
       "<style>#sk-container-id-7 {color: black;}#sk-container-id-7 pre{padding: 0;}#sk-container-id-7 div.sk-toggleable {background-color: white;}#sk-container-id-7 label.sk-toggleable__label {cursor: pointer;display: block;width: 100%;margin-bottom: 0;padding: 0.3em;box-sizing: border-box;text-align: center;}#sk-container-id-7 label.sk-toggleable__label-arrow:before {content: \"▸\";float: left;margin-right: 0.25em;color: #696969;}#sk-container-id-7 label.sk-toggleable__label-arrow:hover:before {color: black;}#sk-container-id-7 div.sk-estimator:hover label.sk-toggleable__label-arrow:before {color: black;}#sk-container-id-7 div.sk-toggleable__content {max-height: 0;max-width: 0;overflow: hidden;text-align: left;background-color: #f0f8ff;}#sk-container-id-7 div.sk-toggleable__content pre {margin: 0.2em;color: black;border-radius: 0.25em;background-color: #f0f8ff;}#sk-container-id-7 input.sk-toggleable__control:checked~div.sk-toggleable__content {max-height: 200px;max-width: 100%;overflow: auto;}#sk-container-id-7 input.sk-toggleable__control:checked~label.sk-toggleable__label-arrow:before {content: \"▾\";}#sk-container-id-7 div.sk-estimator input.sk-toggleable__control:checked~label.sk-toggleable__label {background-color: #d4ebff;}#sk-container-id-7 div.sk-label input.sk-toggleable__control:checked~label.sk-toggleable__label {background-color: #d4ebff;}#sk-container-id-7 input.sk-hidden--visually {border: 0;clip: rect(1px 1px 1px 1px);clip: rect(1px, 1px, 1px, 1px);height: 1px;margin: -1px;overflow: hidden;padding: 0;position: absolute;width: 1px;}#sk-container-id-7 div.sk-estimator {font-family: monospace;background-color: #f0f8ff;border: 1px dotted black;border-radius: 0.25em;box-sizing: border-box;margin-bottom: 0.5em;}#sk-container-id-7 div.sk-estimator:hover {background-color: #d4ebff;}#sk-container-id-7 div.sk-parallel-item::after {content: \"\";width: 100%;border-bottom: 1px solid gray;flex-grow: 1;}#sk-container-id-7 div.sk-label:hover label.sk-toggleable__label {background-color: #d4ebff;}#sk-container-id-7 div.sk-serial::before {content: \"\";position: absolute;border-left: 1px solid gray;box-sizing: border-box;top: 0;bottom: 0;left: 50%;z-index: 0;}#sk-container-id-7 div.sk-serial {display: flex;flex-direction: column;align-items: center;background-color: white;padding-right: 0.2em;padding-left: 0.2em;position: relative;}#sk-container-id-7 div.sk-item {position: relative;z-index: 1;}#sk-container-id-7 div.sk-parallel {display: flex;align-items: stretch;justify-content: center;background-color: white;position: relative;}#sk-container-id-7 div.sk-item::before, #sk-container-id-7 div.sk-parallel-item::before {content: \"\";position: absolute;border-left: 1px solid gray;box-sizing: border-box;top: 0;bottom: 0;left: 50%;z-index: -1;}#sk-container-id-7 div.sk-parallel-item {display: flex;flex-direction: column;z-index: 1;position: relative;background-color: white;}#sk-container-id-7 div.sk-parallel-item:first-child::after {align-self: flex-end;width: 50%;}#sk-container-id-7 div.sk-parallel-item:last-child::after {align-self: flex-start;width: 50%;}#sk-container-id-7 div.sk-parallel-item:only-child::after {width: 0;}#sk-container-id-7 div.sk-dashed-wrapped {border: 1px dashed gray;margin: 0 0.4em 0.5em 0.4em;box-sizing: border-box;padding-bottom: 0.4em;background-color: white;}#sk-container-id-7 div.sk-label label {font-family: monospace;font-weight: bold;display: inline-block;line-height: 1.2em;}#sk-container-id-7 div.sk-label-container {text-align: center;}#sk-container-id-7 div.sk-container {/* jupyter's `normalize.less` sets `[hidden] { display: none; }` but bootstrap.min.css set `[hidden] { display: none !important; }` so we also need the `!important` here to be able to override the default hidden behavior on the sphinx rendered scikit-learn.org. See: https://github.com/scikit-learn/scikit-learn/issues/21755 */display: inline-block !important;position: relative;}#sk-container-id-7 div.sk-text-repr-fallback {display: none;}</style><div id=\"sk-container-id-7\" class=\"sk-top-container\"><div class=\"sk-text-repr-fallback\"><pre>RandomForestRegressor(random_state=0)</pre><b>In a Jupyter environment, please rerun this cell to show the HTML representation or trust the notebook. <br />On GitHub, the HTML representation is unable to render, please try loading this page with nbviewer.org.</b></div><div class=\"sk-container\" hidden><div class=\"sk-item\"><div class=\"sk-estimator sk-toggleable\"><input class=\"sk-toggleable__control sk-hidden--visually\" id=\"sk-estimator-id-7\" type=\"checkbox\" checked><label for=\"sk-estimator-id-7\" class=\"sk-toggleable__label sk-toggleable__label-arrow\">RandomForestRegressor</label><div class=\"sk-toggleable__content\"><pre>RandomForestRegressor(random_state=0)</pre></div></div></div></div></div>"
      ],
      "text/plain": [
       "RandomForestRegressor(random_state=0)"
      ]
     },
     "execution_count": 99,
     "metadata": {},
     "output_type": "execute_result"
    }
   ],
   "source": [
    "reg_dep.fit(X_train_dep, y_train_dep)\n",
    "reg_arr.fit(X_train_arr, y_train_arr)"
   ]
  },
  {
   "cell_type": "code",
   "execution_count": 100,
   "metadata": {},
   "outputs": [
    {
     "name": "stdout",
     "output_type": "stream",
     "text": [
      "R2 departures:  0.19190735468876063\n",
      "R2 arrivals:  0.5668463024301285\n"
     ]
    }
   ],
   "source": [
    "\n",
    "y_pred_dep = reg_dep.predict(X_test_dep)\n",
    "y_pred_arr = reg_arr.predict(X_test_arr)\n",
    "\n",
    "r2_dep = r2_score(y_test_dep, y_pred_dep)\n",
    "r2_arr = r2_score(y_test_arr, y_pred_arr)\n",
    "print(\"R2 departures: \", r2_dep)\n",
    "print(\"R2 arrivals: \", r2_arr)"
   ]
  },
  {
   "cell_type": "code",
   "execution_count": 101,
   "metadata": {},
   "outputs": [
    {
     "name": "stdout",
     "output_type": "stream",
     "text": [
      "R2 departures:  0.14823248884357743\n",
      "R2 arrivals:  0.04891381861840971\n",
      "[ 0.00000000e+00  7.16577608e+01  1.18783716e+00 -2.43619524e+00\n",
      " -2.74193912e-04]\n"
     ]
    }
   ],
   "source": [
    "# logistical regression\n",
    "from sklearn.linear_model import LinearRegression\n",
    "from sklearn.metrics import r2_score\n",
    "# add square of each x\n",
    "X_train_dep = df_departures[df_departures[\"start_month\"] < 11].drop(columns=[\"count\", \"start_month\"])\n",
    "X_test_dep = df_departures[df_departures[\"start_month\"] >= 11].drop(columns=[\"count\", \"start_month\"])\n",
    "y_train_dep = df_departures[df_departures[\"start_month\"] < 11][\"count\"]\n",
    "y_test_dep = df_departures[df_departures[\"start_month\"] >= 11][\"count\"]\n",
    "X_train_arr = df_arrivals[df_arrivals[\"stop_month\"] < 11].drop(columns=[\"count\", \"stop_month\"])\n",
    "X_test_arr = df_arrivals[df_arrivals[\"stop_month\"] >= 11].drop(columns=[\"count\", \"stop_month\"])\n",
    "y_train_arr = df_arrivals[df_arrivals[\"stop_month\"] < 11][\"count\"]\n",
    "y_test_arr = df_arrivals[df_arrivals[\"stop_month\"] >= 11][\"count\"]\n",
    "\n",
    "X_train_dep[\"start_hour^2\"] = X_train_dep[\"start_hour\"]**2\n",
    "X_train_dep[\"start_day^2\"] = X_train_dep[\"start_day\"]**2\n",
    "X_test_dep[\"start_hour^2\"] = X_test_dep[\"start_hour\"]**2\n",
    "X_test_dep[\"start_day^2\"] = X_test_dep[\"start_day\"]**2\n",
    "X_train_arr[\"stop_hour^2\"] = X_train_arr[\"stop_hour\"]**2\n",
    "X_train_arr[\"stop_day^2\"] = X_train_arr[\"stop_day\"]**2\n",
    "X_test_arr[\"stop_hour^2\"] = X_test_arr[\"stop_hour\"]**2\n",
    "X_test_arr[\"stop_day^2\"] = X_test_arr[\"stop_day\"]**2\n",
    "\n",
    "\n",
    "reg_dep = LinearRegression()\n",
    "reg_arr = LinearRegression()\n",
    "reg_dep.fit(X_train_dep, y_train_dep)\n",
    "reg_arr.fit(X_train_arr, y_train_arr)\n",
    "y_pred_dep = reg_dep.predict(X_test_dep)\n",
    "y_pred_arr = reg_arr.predict(X_test_arr)\n",
    "r2_dep = r2_score(y_test_dep, y_pred_dep)\n",
    "r2_arr = r2_score(y_test_arr, y_pred_arr)\n",
    "print(\"R2 departures: \", r2_dep)\n",
    "print(\"R2 arrivals: \", r2_arr)\n",
    "\n",
    "print(reg_dep.coef_)"
   ]
  },
  {
   "cell_type": "markdown",
   "metadata": {},
   "source": [
    "Plot the results"
   ]
  },
  {
   "cell_type": "code",
   "execution_count": null,
   "metadata": {},
   "outputs": [],
   "source": [
    "# plot the predicted vs actual amount of departures and arrivals for all clusters\n",
    "fig, axs = plt.subplots(1, 2, figsize=(10, 5))\n",
    "axs = axs.ravel()\n",
    "axs[0].scatter(y_test_dep, y_pred_dep, s=0.75)\n",
    "axs[0].set_xlabel(\"Actual\")\n",
    "axs[0].set_ylabel(\"Predicted\")\n",
    "axs[0].set_title(\"Departures: All clusters, R2: \" + str(round(r2_dep, 3)))\n",
    "axs[1].scatter(y_test_arr, y_pred_arr, s=0.75)\n",
    "axs[1].set_xlabel(\"Actual\")\n",
    "axs[1].set_ylabel(\"Predicted\")\n",
    "axs[1].set_title(\"Arrivals: All clusters, R2: \" + str(round(r2_arr, 3)))\n",
    "plt.tight_layout()\n",
    "plt.show()\n",
    "\n",
    "\n",
    "# plot the predicted vs actual amount of departures and arrivals for each cluster individually and put all plots in a compact grid. \n",
    "# THis allows us to visually evaluate how good the model is at predicting for each cluster. \n",
    "fig, axs = plt.subplots(int(n_clusters/2), 4, figsize=(20, 40))\n",
    "axs = axs.ravel()\n",
    "for i in range(int(2*n_clusters)):\n",
    "    if i%2 == 0:\n",
    "        axs[i].scatter(y_test_dep[X_test_dep[\"label\"] == i//2], y_pred_dep[X_test_dep[\"label\"] == i//2], s=0.75)\n",
    "        axs[i].set_xlabel(\"Actual\")\n",
    "        axs[i].set_ylabel(\"Predicted\")\n",
    "        axs[i].set_title(\"Departures cluster \" + str(i//2))\n",
    "        plt.tight_layout()\n",
    "    else:\n",
    "        axs[i].scatter(y_test_arr[X_test_arr[\"label\"] == int(np.floor(i//2))], y_pred_arr[X_test_arr[\"label\"] == int(np.floor(i//2))], s=0.75)\n",
    "        axs[i].set_xlabel(\"Actual\")\n",
    "        axs[i].set_ylabel(\"Predicted\")\n",
    "        axs[i].set_title(\"Arrivals cluster \" + str(int(np.floor(i//2))))\n",
    "        plt.tight_layout()\n",
    "plt.show()"
   ]
  },
  {
   "cell_type": "markdown",
   "metadata": {},
   "source": [
    "Notice that cluster 12 contains little datapoints, this will likely be the cluster which contains the end stations which were not start stations (verify maybe?), this only works when we keep n_clusters = 20"
   ]
  },
  {
   "cell_type": "code",
   "execution_count": null,
   "metadata": {},
   "outputs": [],
   "source": [
    "# decision tree to predict count\n",
    "from sklearn.tree import DecisionTreeClassifier\n",
    "from sklearn.model_selection import train_test_split\n",
    "\n",
    "# split data per label, extract data on useful variables for training model, split data, train model, print score.\n",
    "for i in range(n_clusters):\n",
    "    df_label = df[df['label'] == i]\n",
    "    df_label = df_label[['hour', 'usertype_Subscriber', 'label']]\n",
    "    X = df_label[['hour', 'usertype_Subscriber']]\n",
    "    y = df_label['label']\n",
    "    # data\n",
    "    X_train, X_test, y_train, y_test = train_test_split(X, y, test_size=0.2)\n",
    "    clf = DecisionTreeClassifier()\n",
    "    clf.fit(X_train, y_train)\n",
    "    print(\"label: \", i, \" score: \", clf.score(X_test, y_test))"
   ]
  },
  {
   "cell_type": "code",
   "execution_count": null,
   "metadata": {},
   "outputs": [],
   "source": [
    "# get accuracy\n",
    "print(clf.score(X_test, y_test))\n",
    "\n",
    "# R^2\n",
    "from sklearn.metrics import r2_score\n",
    "\n",
    "y_pred = clf.predict(X_test)\n",
    "r2 = r2_score(y_test, y_pred)\n",
    "print(f'r^2 = {r2}')\n"
   ]
  },
  {
   "cell_type": "code",
   "execution_count": null,
   "metadata": {},
   "outputs": [],
   "source": [
    "# make a nn\n",
    "from sklearn.neural_network import MLPClassifier\n",
    "from sklearn.preprocessing import StandardScaler\n",
    "\n",
    "# split data per label\n",
    "for i in range(20):\n",
    "    df_label = df[df['label'] == i]\n",
    "    # split data\n",
    "    X_train, X_test, y_train, y_test = train_test_split(df_label[['hour','start_station_longitude','start_station_latitude']], df_label['usertype_Subscriber'], test_size=0.2, random_state=0)\n",
    "    # scale data\n",
    "    scaler = StandardScaler()\n",
    "    scaler.fit(X_train)\n",
    "    X_train = scaler.transform(X_train)\n",
    "    X_test = scaler.transform(X_test)\n",
    "    # make nn\n",
    "    clf = MLPClassifier(hidden_layer_sizes=(10,10,10), max_iter=1000)\n",
    "    clf.fit(X_train, y_train)\n",
    "    print(\"label:\",i,\"score:\",clf.score(X_test, y_test))\n",
    "    \n",
    "\n",
    "\n",
    "# get accuracy\n",
    "print(clf.score(X_test, y_test))\n",
    "\n",
    "# R^2\n",
    "from sklearn.metrics import r2_score\n",
    "\n",
    "y_pred = clf.predict(X_test)\n",
    "r2 = r2_score(y_test, y_pred)\n",
    "print(f'r^2 = {r2}')\n"
   ]
  },
  {
   "cell_type": "code",
   "execution_count": null,
   "metadata": {},
   "outputs": [],
   "source": [
    "# 1st plot amount of predictions per hour per cluster\n",
    "grouby_label = df.groupby(['label', df['starttime'].dt.hour]).size().reset_index(name='count')\n",
    "grouby_label = grouby_label.pivot(index='starttime', columns='label', values='count')\n",
    "grouby_label.plot(figsize=(20,10))\n",
    "plt.ylabel('Count')\n",
    "plt.xlabel('Hour')\n",
    "plt.show()"
   ]
  },
  {
   "cell_type": "code",
   "execution_count": null,
   "metadata": {},
   "outputs": [],
   "source": [
    "grouby_cluster = df.groupby(['label'])\n",
    "grouby_cluster.head()\n"
   ]
  },
  {
   "cell_type": "code",
   "execution_count": null,
   "metadata": {},
   "outputs": [],
   "source": [
    "# group same label and hour of start together\n",
    "grouby_cluster = df.groupby(['label', df['starttime'].dt.hour])\n",
    "grouby_cluster.head()\n",
    "# average all other columns\n",
    "grouby_cluster = grouby_cluster.mean()\n",
    "grouby_cluster.head()\n"
   ]
  },
  {
   "cell_type": "code",
   "execution_count": null,
   "metadata": {},
   "outputs": [],
   "source": [
    "df.head()"
   ]
  },
  {
   "cell_type": "code",
   "execution_count": null,
   "metadata": {},
   "outputs": [],
   "source": [
    "# amount of predictions per hour per cluster in df\n",
    "df['demand'] = df.groupby(['label', df['starttime'].dt.hour])['label'].transform('count')\n",
    "df.head()\n",
    "\n"
   ]
  },
  {
   "cell_type": "code",
   "execution_count": null,
   "metadata": {},
   "outputs": [],
   "source": [
    "grouby_label.head()"
   ]
  },
  {
   "cell_type": "code",
   "execution_count": null,
   "metadata": {},
   "outputs": [],
   "source": [
    "from sklearn import linear_model\n",
    "from sklearn.metrics import mean_squared_error, r2_score\n"
   ]
  },
  {
   "cell_type": "code",
   "execution_count": null,
   "metadata": {},
   "outputs": [],
   "source": [
    "# split data into train and test (80/20)\n",
    "train = df.sample(frac=0.8,random_state=42)\n",
    "test = df.drop(train.index)"
   ]
  },
  {
   "cell_type": "code",
   "execution_count": null,
   "metadata": {},
   "outputs": [],
   "source": []
  },
  {
   "cell_type": "code",
   "execution_count": null,
   "metadata": {},
   "outputs": [],
   "source": [
    "# make linear regression model per cluster/label\n",
    "models = []\n",
    "for i in range(20):\n",
    "    X = grouby_label[i].index.values.reshape(-1, 1)\n",
    "    y = grouby_label[i].values\n",
    "    regr = linear_model.LinearRegression()\n",
    "    print(X.shape)\n",
    "    print(y.shape)\n",
    "    print(type(X))\n",
    "    print(type(y))\n",
    "    print(X[0])\n",
    "    print(y[0])\n",
    "    regr.fit(X, y)\n",
    "    models.append(regr)\n",
    "    \n",
    "\n",
    "# for i in range(20):\n",
    "    # X = train[train['label'] == i]['starttime'].dt.hour.values.reshape(-1, 1)\n",
    "    # y = train[train['label'] == i]['tripduration'].values\n",
    "    # regr = linear_model.LinearRegression()\n",
    "    # regr.fit(X, y)\n",
    "    # models.append(regr)\n",
    "# THIS ISNT USING THE RIGHT X YET, not sure how the groupby df is working rn\n",
    "\n",
    "# for i in range(20):\n",
    "#     X = grouby_label[i].index.values.reshape(-1, 1)\n",
    "#     y = grouby_label[i].values\n",
    "#     regr = linear_model.LinearRegression()\n",
    "#     regr.fit(X, y)\n",
    "#     models.append(regr)"
   ]
  },
  {
   "cell_type": "code",
   "execution_count": null,
   "metadata": {},
   "outputs": [],
   "source": [
    "# make predictions\n",
    "preds = []\n",
    "for i in range(20):\n",
    "    preds.append(models[i].predict(grouby_label[i].index.values.reshape(-1, 1)))\n"
   ]
  },
  {
   "cell_type": "code",
   "execution_count": null,
   "metadata": {},
   "outputs": [],
   "source": [
    "# plot predictions 4x5 grid\n",
    "fig, axs = plt.subplots(4, 5, figsize=(20, 10))\n",
    "axs = axs.ravel()\n",
    "for i in range(20):\n",
    "    axs[i].plot(grouby_label[i].index.values, grouby_label[i].values, color='black')\n",
    "    axs[i].plot(grouby_label[i].index.values, preds[i], color='blue', linewidth=3)\n",
    "    axs[i].set_title('Cluster ' + str(i))\n",
    "    axs[i].set_ylabel('Count')\n",
    "    axs[i].set_xlabel('Hour')\n",
    "plt.show()"
   ]
  },
  {
   "cell_type": "code",
   "execution_count": null,
   "metadata": {},
   "outputs": [],
   "source": [
    "from sklearn.linear_model import LinearRegression"
   ]
  },
  {
   "cell_type": "code",
   "execution_count": null,
   "metadata": {},
   "outputs": [],
   "source": [
    "# Create an empty dictionary to store the linear regression models for each cluster\n",
    "models = {}\n",
    "\n",
    "# Train a linear regression model for each cluster\n",
    "for cluster_label in range(20):\n",
    "    # Filter the data for the current cluster\n",
    "    cluster_data = df[df['label'] == cluster_label]\n",
    "    \n",
    "    # Extract features (X) and target (y)\n",
    "    X = cluster_data[['starttime']].values\n",
    "    y = cluster_data['demand'].values\n",
    "    \n",
    "    # Create and train the linear regression model\n",
    "    model = LinearRegression()\n",
    "    model.fit(X, y)\n",
    "    \n",
    "    # Store the model in the dictionary\n",
    "    models[cluster_label] = model\n",
    "\n",
    "# Create an empty DataFrame to store the predictions\n",
    "predictions_df = pd.DataFrame()\n",
    "\n",
    "# Make predictions for each cluster and add them to the DataFrame\n",
    "for cluster_label in range(20):\n",
    "    # Extract the hours for which you want to make predictions\n",
    "    hours_to_predict = grouby_label.index.values\n",
    "    \n",
    "    # Create a feature matrix with these hours\n",
    "    X_predict = hours_to_predict.reshape(-1, 1)\n",
    "    \n",
    "    # Make predictions using the model for the current cluster\n",
    "    predictions = models[cluster_label].predict(X_predict)\n",
    "    \n",
    "    # Add the predictions to the DataFrame\n",
    "    predictions_df['Cluster_' + str(cluster_label)] = predictions\n",
    "\n",
    "# Plot the predictions\n",
    "predictions_df['Hour'] = hours_to_predict\n",
    "predictions_df.set_index('Hour', inplace=True)\n",
    "predictions_df.plot(figsize=(20, 10))\n",
    "plt.ylabel('Count')\n",
    "plt.xlabel('Hour')\n",
    "plt.show()"
   ]
  },
  {
   "cell_type": "markdown",
   "metadata": {},
   "source": [
    "Matthias Attempt"
   ]
  },
  {
   "cell_type": "markdown",
   "metadata": {},
   "source": [
    "Data preparation"
   ]
  },
  {
   "cell_type": "code",
   "execution_count": null,
   "metadata": {},
   "outputs": [],
   "source": [
    "print(len(df[\"start_station_id\"].unique()))\n",
    "print(len(df[\"end_station_id\"].unique()))\n",
    "coords = df[['start_station_longitude','start_station_latitude']].values\n",
    "coords = np.unique(coords, axis=0)\n",
    "print(len(coords))\n",
    "coords = df[['end_station_longitude','end_station_latitude']].values\n",
    "coords = np.unique(coords, axis=0)\n",
    "print(len(coords))\n"
   ]
  },
  {
   "cell_type": "code",
   "execution_count": null,
   "metadata": {},
   "outputs": [],
   "source": [
    "#copy dataset and distinct coordinates\n",
    "df = df_matt.copy()\n",
    "coords = coords_copy.copy()\n",
    "\n",
    "# Create an additional column in df with the distinct station_id using the kmeans model\n",
    "for i in range(len(coords)):\n",
    "    df.loc[(data['start_station_longitude'] == coords[i][0]) & (df['start_station_latitude'] == coords[i][1]), 'station_id'] = i\n",
    "df.head()\n",
    "# print(df[\"station_id\"].unique())\n",
    "\n",
    "\n",
    "#split dataset up. Create two datasets, one with \n",
    "\n",
    "\n",
    "\n",
    "\n",
    "\n",
    "\n",
    "\n",
    "\n"
   ]
  },
  {
   "cell_type": "code",
   "execution_count": null,
   "metadata": {},
   "outputs": [],
   "source": [
    "#code treasury\n",
    "\n",
    "\n",
    "\n",
    "\n",
    "\n",
    "    # Create an empty dictionary to store the linear regression models for each station for stations within only one of the 20 clusters\n",
    "models = {}\n",
    "\n",
    "# Train a linear regression model for each station within the specified cluster\n",
    "for station_id in df[\"station_id\"].unique():\n",
    "    # Filter the data for the current station\n",
    "    station_data = df[df['station_id'] == station_id]\n",
    "    \n",
    "    # Extract features (X) and target (y)\n",
    "    X = station_data[['starttime']].values\n",
    "    y = station_data['demand'].values\n",
    "    \n",
    "    # Create and train the linear regression model\n",
    "    model = LinearRegression()\n",
    "    model.fit(X, y)\n",
    "    \n",
    "    # Store the model in the dictionary\n",
    "    models[station_id] = model"
   ]
  },
  {
   "cell_type": "markdown",
   "metadata": {},
   "source": [
    "Collaboration # not included in wordcouter.py\n"
   ]
  },
  {
   "cell_type": "code",
   "execution_count": null,
   "metadata": {},
   "outputs": [],
   "source": [
    "#what does bike id mean? unique id for a certain bike"
   ]
  },
  {
   "cell_type": "code",
   "execution_count": null,
   "metadata": {},
   "outputs": [],
   "source": []
  }
 ],
 "metadata": {
  "kernelspec": {
   "display_name": "Python 3",
   "language": "python",
   "name": "python3"
  },
  "language_info": {
   "codemirror_mode": {
    "name": "ipython",
    "version": 3
   },
   "file_extension": ".py",
   "mimetype": "text/x-python",
   "name": "python",
   "nbconvert_exporter": "python",
   "pygments_lexer": "ipython3",
   "version": "3.11.3"
  }
 },
 "nbformat": 4,
 "nbformat_minor": 2
}
