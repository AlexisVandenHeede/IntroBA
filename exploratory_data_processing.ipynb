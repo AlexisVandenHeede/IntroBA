{
 "cells": [
  {
   "cell_type": "code",
   "execution_count": 1,
   "metadata": {},
   "outputs": [
    {
     "name": "stdout",
     "output_type": "stream",
     "text": [
      "Max_temp          0\n",
      "Min_temp          0\n",
      "Avg_temp          0\n",
      "Departure_temp    0\n",
      "HDD               0\n",
      "CDD               0\n",
      "Precipitation     0\n",
      "Snowfall          0\n",
      "Snow_depth        0\n",
      "day               0\n",
      "month             0\n",
      "weekend           0\n",
      "day_of_week       0\n",
      "year              0\n",
      "dtype: int64\n",
      "  Max_temp Min_temp Avg_temp Departure_temp HDD CDD Precipitation Snowfall  \\\n",
      "0       19        7     13.0          -22.2  52   0          0.00      0.0   \n",
      "1       26       13     19.5          -15.5  45   0          0.00      0.0   \n",
      "2       30       16     23.0          -11.8  42   0          0.00      0.0   \n",
      "3       29       19     24.0          -10.7  41   0          0.76      9.8   \n",
      "4       19        9     14.0          -20.5  51   0          0.00      0.0   \n",
      "\n",
      "  Snow_depth  day  month  weekend  day_of_week  year  \n",
      "0          0    1      1        0            0  2018  \n",
      "1          0    2      1        0            1  2018  \n",
      "2          0    3      1        0            2  2018  \n",
      "3          1    4      1        0            3  2018  \n",
      "4          7    5      1        0            4  2018  \n",
      "Index(['tripduration', 'starttime', 'stoptime', 'start_station_id',\n",
      "       'start_station_latitude', 'start_station_longitude', 'end_station_id',\n",
      "       'end_station_latitude', 'end_station_longitude', 'bikeid', 'birth_year',\n",
      "       'gender', 'usertype_Subscriber'],\n",
      "      dtype='object')\n",
      "         tripduration               starttime                stoptime  \\\n",
      "trip_id                                                                 \n",
      "0                 970 2018-01-01 13:50:57.434 2018-01-01 14:07:08.186   \n",
      "1                 723 2018-01-01 15:33:30.182 2018-01-01 15:45:33.341   \n",
      "2                 496 2018-01-01 15:39:18.337 2018-01-01 15:47:35.172   \n",
      "3                 306 2018-01-01 15:40:13.372 2018-01-01 15:45:20.191   \n",
      "4                 306 2018-01-01 18:14:51.568 2018-01-01 18:19:57.642   \n",
      "\n",
      "         start_station_id  start_station_latitude  start_station_longitude  \\\n",
      "trip_id                                                                      \n",
      "0                    72.0               40.767272               -73.993929   \n",
      "1                    72.0               40.767272               -73.993929   \n",
      "2                    72.0               40.767272               -73.993929   \n",
      "3                    72.0               40.767272               -73.993929   \n",
      "4                    72.0               40.767272               -73.993929   \n",
      "\n",
      "         end_station_id  end_station_latitude  end_station_longitude  bikeid  \\\n",
      "trip_id                                                                        \n",
      "0                 505.0             40.749013             -73.988484   31956   \n",
      "1                3255.0             40.750585             -73.994685   32536   \n",
      "2                 525.0             40.755942             -74.002116   16069   \n",
      "3                 447.0             40.763707             -73.985162   31781   \n",
      "4                3356.0             40.774667             -73.984706   30319   \n",
      "\n",
      "         birth_year  gender  usertype_Subscriber  \n",
      "trip_id                                           \n",
      "0              1992       1                    1  \n",
      "1              1969       1                    1  \n",
      "2              1956       1                    1  \n",
      "3              1974       1                    1  \n",
      "4              1992       1                    1  \n",
      "Index(['tripduration', 'time', 'end_station_id', 'latitude', 'longitude',\n",
      "       'bikeid', 'birth_year', 'gender', 'usertype_Subscriber'],\n",
      "      dtype='object')\n",
      "Index(['tripduration', 'time', 'start_station_id', 'latitude', 'longitude',\n",
      "       'bikeid', 'birth_year', 'gender', 'usertype_Subscriber'],\n",
      "      dtype='object')\n"
     ]
    }
   ],
   "source": [
    "import pandas as pd\n",
    "import numpy as np\n",
    "import matplotlib.pyplot as plt\n",
    "from sklearn.cluster import KMeans\n",
    "from sklearn.model_selection import train_test_split\n",
    "from sklearn.preprocessing import StandardScaler\n",
    "\n",
    "\n",
    "\n",
    "def count(df):\n",
    "    counts = df.groupby(['label', 'hour']).size().reset_index(name='count')\n",
    "    df = df.merge(counts, on=['label', 'hour'], how='left')\n",
    "    return df\n",
    "\n",
    "\n",
    "#open weather data 2018, read textfile and convert to dataframe\n",
    "text = open('data/2018_weather_data.txt', 'r')\n",
    "weather_data = text.read()\n",
    "weather_data = weather_data.split('\\n')\n",
    "weather_data = [i.split('\\t') for i in weather_data[1:]]\n",
    "weather_data = pd.DataFrame(weather_data)\n",
    "weather_data.columns = ['Date', 'Max_temp', 'Min_temp', 'Avg_temp', 'Departure_temp', 'HDD', 'CDD', 'Precipitation', 'Snowfall', 'Snow_depth']\n",
    "weather_data = weather_data.dropna()\n",
    "# day month\n",
    "weather_data['Date'] = pd.to_datetime(weather_data['Date'])\n",
    "weather_data['day'] = weather_data['Date'].dt.day\n",
    "weather_data['month'] = weather_data['Date'].dt.month\n",
    "weather_data['weekend'] = np.where(weather_data['Date'].dt.dayofweek < 5, 0, 1)\n",
    "weather_data['day_of_week'] = weather_data['Date'].dt.dayofweek\n",
    "weather_data['year'] = weather_data['Date'].dt.year\n",
    "weather_data.drop(['Date'], axis=1, inplace=True)\n",
    "\n",
    "weather_data.replace('T', 0, inplace=True)\n",
    "weather_data.replace('M', 0, inplace=True)\n",
    "\n",
    "# convert temperatures to celcius\n",
    "weather_data['Max_temp'] = (weather_data['Max_temp'].astype(float) - 32) * 5/9\n",
    "weather_data['Min_temp'] = (weather_data['Min_temp'].astype(float) - 32) * 5/9\n",
    "weather_data['Avg_temp'] = (weather_data['Avg_temp'].astype(float) - 32) * 5/9\n",
    "weather_data['Departure_temp'] = (weather_data['Departure_temp'].astype(float) - 32) * 5/9\n",
    "\n",
    "\n",
    "# check for nan\n",
    "print(weather_data.isnull().sum())\n",
    "\n",
    "print(weather_data.head())\n",
    "\n",
    "df = pd.read_csv('data/Trips_2018.csv')\n",
    "df.rename(columns={'Unnamed: 0': 'trip_id'}, inplace=True)\n",
    "df.set_index('trip_id', inplace=True)\n",
    "df = df.dropna()\n",
    "df['starttime'] = pd.to_datetime(df['starttime'], format=\"%Y-%m-%d %H:%M:%S.%f\")\n",
    "df['stoptime'] = pd.to_datetime(df['stoptime'], format=\"%Y-%m-%d %H:%M:%S.%f\")\n",
    "df = df[~np.isnan(df['start_station_id'])]\n",
    "df = df[~np.isnan(df['end_station_id'])]\n",
    "# get rid of Canada outlier\n",
    "df = df[df['start_station_longitude'] < -73.6]\n",
    "df = df[df['end_station_longitude'] < -73.6]\n",
    "df = pd.get_dummies(df, columns=['usertype'], dtype=int, drop_first=True)\n",
    "\n",
    "print(df.columns)\n",
    "print(df.head())\n",
    "\n",
    "df_arrival = df.drop(['start_station_latitude', 'start_station_longitude', 'start_station_id', 'starttime'], axis=1)\n",
    "df_departure = df.drop(['end_station_latitude', 'end_station_longitude', 'end_station_id', 'stoptime'], axis=1)\n",
    "\n",
    "# make lat and long called that and time\n",
    "df_arrival.rename(columns={'end_station_latitude': 'latitude', 'end_station_longitude': 'longitude'}, inplace=True)\n",
    "df_departure.rename(columns={'start_station_latitude': 'latitude', 'start_station_longitude': 'longitude'}, inplace=True)\n",
    "df_arrival.rename(columns={'stoptime': 'time'}, inplace=True)\n",
    "df_departure.rename(columns={'starttime': 'time'}, inplace=True)\n",
    "\n",
    "print(df_arrival.columns)\n",
    "print(df_departure.columns)\n",
    "\n",
    "# add hour, day, month, weekend, day of week\n",
    "df_arrival['hour'] = df_arrival['time'].dt.hour\n",
    "df_departure['hour'] = df_departure['time'].dt.hour\n",
    "df_arrival['day'] = df_arrival['time'].dt.day\n",
    "df_departure['day'] = df_departure['time'].dt.day\n",
    "df_arrival['month'] = df_arrival['time'].dt.month\n",
    "df_departure['month'] = df_departure['time'].dt.month\n",
    "df_arrival['weekend'] = np.where(df_arrival['time'].dt.dayofweek < 5, 0, 1)\n",
    "df_departure['weekend'] = np.where(df_departure['time'].dt.dayofweek < 5, 0, 1)\n",
    "df_arrival['day_of_week'] = df_arrival['time'].dt.dayofweek\n",
    "df_departure['day_of_week'] = df_departure['time'].dt.dayofweek\n",
    "\n",
    "kmeans = KMeans(n_clusters=20, random_state=0, n_init='auto').fit(df_arrival[['latitude', 'longitude']])\n",
    "\n",
    "# add labels using k means predict\n",
    "df_arrival['label'] = kmeans.predict(df_arrival[['latitude', 'longitude']])\n",
    "df_departure['label'] = kmeans.predict(df_departure[['latitude', 'longitude']])\n",
    "\n",
    "\n"
   ]
  },
  {
   "cell_type": "code",
   "execution_count": 2,
   "metadata": {},
   "outputs": [
    {
     "name": "stdout",
     "output_type": "stream",
     "text": [
      "added count\n"
     ]
    }
   ],
   "source": [
    "# count\n",
    "df_arrival = count(df_arrival)\n",
    "df_departure = count(df_departure)\n",
    "print('added count')"
   ]
  },
  {
   "cell_type": "code",
   "execution_count": 3,
   "metadata": {},
   "outputs": [
    {
     "name": "stdout",
     "output_type": "stream",
     "text": [
      "   tripduration                    time  end_station_id   latitude  longitude  \\\n",
      "0           970 2018-01-01 14:07:08.186           505.0  40.749013 -73.988484   \n",
      "1           723 2018-01-01 15:45:33.341          3255.0  40.750585 -73.994685   \n",
      "2           496 2018-01-01 15:47:35.172           525.0  40.755942 -74.002116   \n",
      "3           306 2018-01-01 15:45:20.191           447.0  40.763707 -73.985162   \n",
      "4           306 2018-01-01 18:19:57.642          3356.0  40.774667 -73.984706   \n",
      "\n",
      "   bikeid  birth_year  gender  usertype_Subscriber  hour  day  month  weekend  \\\n",
      "0   31956        1992       1                    1    14    1      1        0   \n",
      "1   32536        1969       1                    1    15    1      1        0   \n",
      "2   16069        1956       1                    1    15    1      1        0   \n",
      "3   31781        1974       1                    1    15    1      1        0   \n",
      "4   30319        1992       1                    1    18    1      1        0   \n",
      "\n",
      "   day_of_week  label   count  \n",
      "0            0     10   72203  \n",
      "1            0      6  104108  \n",
      "2            0      6  104108  \n",
      "3            0      6  104108  \n",
      "4            0      1   93289  \n",
      "   tripduration                    time  start_station_id   latitude  \\\n",
      "0           970 2018-01-01 13:50:57.434              72.0  40.767272   \n",
      "1           723 2018-01-01 15:33:30.182              72.0  40.767272   \n",
      "2           496 2018-01-01 15:39:18.337              72.0  40.767272   \n",
      "3           306 2018-01-01 15:40:13.372              72.0  40.767272   \n",
      "4           306 2018-01-01 18:14:51.568              72.0  40.767272   \n",
      "\n",
      "   longitude  bikeid  birth_year  gender  usertype_Subscriber  hour  day  \\\n",
      "0 -73.993929   31956        1992       1                    1    13    1   \n",
      "1 -73.993929   32536        1969       1                    1    15    1   \n",
      "2 -73.993929   16069        1956       1                    1    15    1   \n",
      "3 -73.993929   31781        1974       1                    1    15    1   \n",
      "4 -73.993929   30319        1992       1                    1    18    1   \n",
      "\n",
      "   month  weekend  day_of_week  label   count  \n",
      "0      1        0            0      6   80956  \n",
      "1      1        0            0      6   88535  \n",
      "2      1        0            0      6   88535  \n",
      "3      1        0            0      6   88535  \n",
      "4      1        0            0      6  161702  \n"
     ]
    }
   ],
   "source": [
    "# drop duplicates\n",
    "df_arrival = df_arrival.drop_duplicates()\n",
    "df_departure = df_departure.drop_duplicates()\n",
    "\n",
    "\n",
    "print(df_arrival.head())\n",
    "print(df_departure.head())\n"
   ]
  },
  {
   "cell_type": "code",
   "execution_count": 4,
   "metadata": {},
   "outputs": [
    {
     "data": {
      "text/plain": [
       "Index(['tripduration', 'time', 'start_station_id', 'latitude', 'longitude',\n",
       "       'bikeid', 'birth_year', 'gender', 'usertype_Subscriber', 'hour', 'day',\n",
       "       'month', 'weekend', 'day_of_week', 'label', 'count'],\n",
       "      dtype='object')"
      ]
     },
     "execution_count": 4,
     "metadata": {},
     "output_type": "execute_result"
    }
   ],
   "source": [
    "df_departure.columns"
   ]
  },
  {
   "cell_type": "markdown",
   "metadata": {},
   "source": [
    "# Visualizations and data exploration\n",
    "Firtstly let's examine the the weather data we included and establish which witch features are contributing to the most variance in the data. We will also look at the distribution of the data to see if there are any outliers or other anomalies that we should be aware of.\n"
   ]
  },
  {
   "cell_type": "code",
   "execution_count": 45,
   "metadata": {},
   "outputs": [
    {
     "name": "stdout",
     "output_type": "stream",
     "text": [
      "    month Avg_temp\n",
      "0       1     13.0\n",
      "1       1     19.5\n",
      "2       1     23.0\n",
      "3       1     24.0\n",
      "4       1     14.0\n",
      "5       1      9.5\n",
      "6       1     11.5\n",
      "7       1     24.0\n",
      "8       1     37.0\n",
      "9       1     36.5\n",
      "10      1     47.0\n",
      "11      1     52.5\n",
      "12      1     38.5\n",
      "13      1     20.0\n",
      "14      1     23.0\n"
     ]
    },
    {
     "name": "stderr",
     "output_type": "stream",
     "text": [
      "/var/folders/9z/rxmxhrbj6n38vk6t9797bdpw0000gp/T/ipykernel_54511/1039918086.py:6: FutureWarning: DataFrame.groupby with axis=1 is deprecated. Do `frame.T.groupby(...)` without axis instead.\n",
      "  weather_data_per_month = weather_data_per_month.groupby(['month'], axis=1)\n"
     ]
    }
   ],
   "source": [
    "# make a temperature average plot for each month\n",
    "weather_data_per_month = weather_data[['month', 'Avg_temp']]\n",
    "\n",
    "print(weather_data_per_month.head(15))\n",
    "#calculate average temperature per month\n",
    "weather_data_per_month = weather_data_per_month.groupby(['month'], axis=1)\n",
    "\n",
    "\n",
    "\n"
   ]
  },
  {
   "cell_type": "code",
   "execution_count": null,
   "metadata": {},
   "outputs": [],
   "source": []
  },
  {
   "cell_type": "code",
   "execution_count": 9,
   "metadata": {},
   "outputs": [],
   "source": [
    "# # drop column latitiude and longitude, bikeid, birth_year, gender, user type\n",
    "\n",
    "# df_arrival.drop(['end_station_id', 'latitude', 'longitude',\n",
    "#        'bikeid', 'birth_year', 'gender', 'usertype_Subscriber', \n",
    "#        'month'], inplace=True, axis=1)\n",
    "\n"
   ]
  },
  {
   "cell_type": "code",
   "execution_count": 14,
   "metadata": {},
   "outputs": [
    {
     "name": "stdout",
     "output_type": "stream",
     "text": [
      "         tripduration                    time  hour  day  weekend  \\\n",
      "115400            196 2018-01-01 00:05:07.438     0    1        0   \n",
      "2765191           370 2018-04-17 07:25:14.507     7   17        0   \n",
      "9266230          1470 2018-07-30 11:43:48.602    11   30        0   \n",
      "8034449          1003 2018-07-30 11:43:48.585    11   30        0   \n",
      "7849307          1817 2018-07-30 11:43:30.760    11   30        0   \n",
      "\n",
      "         day_of_week  label  count  \n",
      "115400             0      0   8341  \n",
      "2765191            1      0  66700  \n",
      "9266230            0      0  56027  \n",
      "8034449            0      0  56027  \n",
      "7849307            0      0  56027  \n",
      "Index(['tripduration', 'time', 'hour', 'day', 'weekend', 'day_of_week',\n",
      "       'label', 'count'],\n",
      "      dtype='object')\n",
      "(17545760, 8)\n"
     ]
    }
   ],
   "source": [
    "# df_arrival.sort_values(by=['label'], inplace=True)\n",
    "# print(df_arrival.head())\n",
    "# print(df_arrival.columns)\n",
    "# print(df_arrival.shape)"
   ]
  },
  {
   "cell_type": "code",
   "execution_count": null,
   "metadata": {},
   "outputs": [],
   "source": []
  }
 ],
 "metadata": {
  "kernelspec": {
   "display_name": "Python 3",
   "language": "python",
   "name": "python3"
  },
  "language_info": {
   "codemirror_mode": {
    "name": "ipython",
    "version": 3
   },
   "file_extension": ".py",
   "mimetype": "text/x-python",
   "name": "python",
   "nbconvert_exporter": "python",
   "pygments_lexer": "ipython3",
   "version": "3.11.6"
  }
 },
 "nbformat": 4,
 "nbformat_minor": 2
}
